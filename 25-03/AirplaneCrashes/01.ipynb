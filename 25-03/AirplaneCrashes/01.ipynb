{
 "cells": [
  {
   "cell_type": "markdown",
   "id": "e9d397b0",
   "metadata": {
    "papermill": {
     "duration": 0.019515,
     "end_time": "2022-07-23T07:46:38.491756",
     "exception": false,
     "start_time": "2022-07-23T07:46:38.472241",
     "status": "completed"
    },
    "tags": []
   },
   "source": [
    "# Import libraries"
   ]
  },
  {
   "cell_type": "code",
   "execution_count": 1,
   "id": "47da50ef",
   "metadata": {
    "execution": {
     "iopub.execute_input": "2022-07-23T07:46:38.529845Z",
     "iopub.status.busy": "2022-07-23T07:46:38.529490Z",
     "iopub.status.idle": "2022-07-23T07:46:40.853935Z",
     "shell.execute_reply": "2022-07-23T07:46:40.852882Z"
    },
    "papermill": {
     "duration": 2.346696,
     "end_time": "2022-07-23T07:46:40.856821",
     "exception": false,
     "start_time": "2022-07-23T07:46:38.510125",
     "status": "completed"
    },
    "tags": []
   },
   "outputs": [],
   "source": [
    "import pandas as pd\n",
    "import warnings\n",
    "warnings.filterwarnings('ignore')\n",
    "import missingno as msn\n",
    "import plotly.express as px\n",
    "import matplotlib.pyplot as plt\n",
    "import seaborn as sns\n",
    "import numpy as np\n",
    "sns.set()\n",
    "from datetime import date, timedelta, datetime"
   ]
  },
  {
   "cell_type": "markdown",
   "id": "1730580d",
   "metadata": {
    "papermill": {
     "duration": 0.018303,
     "end_time": "2022-07-23T07:46:40.895306",
     "exception": false,
     "start_time": "2022-07-23T07:46:40.877003",
     "status": "completed"
    },
    "tags": []
   },
   "source": [
    "# extract dataset"
   ]
  },
  {
   "cell_type": "markdown",
   "id": "9b397197",
   "metadata": {},
   "source": []
  },
  {
   "cell_type": "code",
   "execution_count": 2,
   "id": "ac1546c7",
   "metadata": {
    "execution": {
     "iopub.execute_input": "2022-07-23T07:46:40.934095Z",
     "iopub.status.busy": "2022-07-23T07:46:40.933724Z",
     "iopub.status.idle": "2022-07-23T07:46:41.008314Z",
     "shell.execute_reply": "2022-07-23T07:46:41.007516Z"
    },
    "papermill": {
     "duration": 0.096777,
     "end_time": "2022-07-23T07:46:41.010319",
     "exception": false,
     "start_time": "2022-07-23T07:46:40.913542",
     "status": "completed"
    },
    "tags": []
   },
   "outputs": [],
   "source": [
    "df=pd.read_csv(r'Airplane_Crashes_and_Fatalities_Since_1908.csv')"
   ]
  },
  {
   "cell_type": "code",
   "execution_count": 3,
   "id": "4260755c",
   "metadata": {
    "execution": {
     "iopub.execute_input": "2022-07-23T07:46:41.035577Z",
     "iopub.status.busy": "2022-07-23T07:46:41.034500Z",
     "iopub.status.idle": "2022-07-23T07:46:41.066147Z",
     "shell.execute_reply": "2022-07-23T07:46:41.065006Z"
    },
    "papermill": {
     "duration": 0.047455,
     "end_time": "2022-07-23T07:46:41.069279",
     "exception": false,
     "start_time": "2022-07-23T07:46:41.021824",
     "status": "completed"
    },
    "scrolled": true,
    "tags": []
   },
   "outputs": [
    {
     "data": {
      "text/html": [
       "<div>\n",
       "<style scoped>\n",
       "    .dataframe tbody tr th:only-of-type {\n",
       "        vertical-align: middle;\n",
       "    }\n",
       "\n",
       "    .dataframe tbody tr th {\n",
       "        vertical-align: top;\n",
       "    }\n",
       "\n",
       "    .dataframe thead th {\n",
       "        text-align: right;\n",
       "    }\n",
       "</style>\n",
       "<table border=\"1\" class=\"dataframe\">\n",
       "  <thead>\n",
       "    <tr style=\"text-align: right;\">\n",
       "      <th></th>\n",
       "      <th>Date</th>\n",
       "      <th>Time</th>\n",
       "      <th>Location</th>\n",
       "      <th>Operator</th>\n",
       "      <th>Flight #</th>\n",
       "      <th>Route</th>\n",
       "      <th>Type</th>\n",
       "      <th>Registration</th>\n",
       "      <th>cn/In</th>\n",
       "      <th>Aboard</th>\n",
       "      <th>Fatalities</th>\n",
       "      <th>Ground</th>\n",
       "      <th>Summary</th>\n",
       "    </tr>\n",
       "  </thead>\n",
       "  <tbody>\n",
       "    <tr>\n",
       "      <th>0</th>\n",
       "      <td>09/17/1908</td>\n",
       "      <td>17:18</td>\n",
       "      <td>Fort Myer, Virginia</td>\n",
       "      <td>Military - U.S. Army</td>\n",
       "      <td>NaN</td>\n",
       "      <td>Demonstration</td>\n",
       "      <td>Wright Flyer III</td>\n",
       "      <td>NaN</td>\n",
       "      <td>1</td>\n",
       "      <td>2.0</td>\n",
       "      <td>1.0</td>\n",
       "      <td>0.0</td>\n",
       "      <td>During a demonstration flight, a U.S. Army fly...</td>\n",
       "    </tr>\n",
       "    <tr>\n",
       "      <th>1</th>\n",
       "      <td>07/12/1912</td>\n",
       "      <td>06:30</td>\n",
       "      <td>AtlantiCity, New Jersey</td>\n",
       "      <td>Military - U.S. Navy</td>\n",
       "      <td>NaN</td>\n",
       "      <td>Test flight</td>\n",
       "      <td>Dirigible</td>\n",
       "      <td>NaN</td>\n",
       "      <td>NaN</td>\n",
       "      <td>5.0</td>\n",
       "      <td>5.0</td>\n",
       "      <td>0.0</td>\n",
       "      <td>First U.S. dirigible Akron exploded just offsh...</td>\n",
       "    </tr>\n",
       "    <tr>\n",
       "      <th>2</th>\n",
       "      <td>08/06/1913</td>\n",
       "      <td>NaN</td>\n",
       "      <td>Victoria, British Columbia, Canada</td>\n",
       "      <td>Private</td>\n",
       "      <td>-</td>\n",
       "      <td>NaN</td>\n",
       "      <td>Curtiss seaplane</td>\n",
       "      <td>NaN</td>\n",
       "      <td>NaN</td>\n",
       "      <td>1.0</td>\n",
       "      <td>1.0</td>\n",
       "      <td>0.0</td>\n",
       "      <td>The first fatal airplane accident in Canada oc...</td>\n",
       "    </tr>\n",
       "    <tr>\n",
       "      <th>3</th>\n",
       "      <td>09/09/1913</td>\n",
       "      <td>18:30</td>\n",
       "      <td>Over the North Sea</td>\n",
       "      <td>Military - German Navy</td>\n",
       "      <td>NaN</td>\n",
       "      <td>NaN</td>\n",
       "      <td>Zeppelin L-1 (airship)</td>\n",
       "      <td>NaN</td>\n",
       "      <td>NaN</td>\n",
       "      <td>20.0</td>\n",
       "      <td>14.0</td>\n",
       "      <td>0.0</td>\n",
       "      <td>The airship flew into a thunderstorm and encou...</td>\n",
       "    </tr>\n",
       "    <tr>\n",
       "      <th>4</th>\n",
       "      <td>10/17/1913</td>\n",
       "      <td>10:30</td>\n",
       "      <td>Near Johannisthal, Germany</td>\n",
       "      <td>Military - German Navy</td>\n",
       "      <td>NaN</td>\n",
       "      <td>NaN</td>\n",
       "      <td>Zeppelin L-2 (airship)</td>\n",
       "      <td>NaN</td>\n",
       "      <td>NaN</td>\n",
       "      <td>30.0</td>\n",
       "      <td>30.0</td>\n",
       "      <td>0.0</td>\n",
       "      <td>Hydrogen gas which was being vented was sucked...</td>\n",
       "    </tr>\n",
       "  </tbody>\n",
       "</table>\n",
       "</div>"
      ],
      "text/plain": [
       "         Date   Time                            Location  \\\n",
       "0  09/17/1908  17:18                 Fort Myer, Virginia   \n",
       "1  07/12/1912  06:30             AtlantiCity, New Jersey   \n",
       "2  08/06/1913    NaN  Victoria, British Columbia, Canada   \n",
       "3  09/09/1913  18:30                  Over the North Sea   \n",
       "4  10/17/1913  10:30          Near Johannisthal, Germany   \n",
       "\n",
       "                 Operator Flight #          Route                    Type  \\\n",
       "0    Military - U.S. Army      NaN  Demonstration        Wright Flyer III   \n",
       "1    Military - U.S. Navy      NaN    Test flight               Dirigible   \n",
       "2                 Private        -            NaN        Curtiss seaplane   \n",
       "3  Military - German Navy      NaN            NaN  Zeppelin L-1 (airship)   \n",
       "4  Military - German Navy      NaN            NaN  Zeppelin L-2 (airship)   \n",
       "\n",
       "  Registration cn/In  Aboard  Fatalities  Ground  \\\n",
       "0          NaN     1     2.0         1.0     0.0   \n",
       "1          NaN   NaN     5.0         5.0     0.0   \n",
       "2          NaN   NaN     1.0         1.0     0.0   \n",
       "3          NaN   NaN    20.0        14.0     0.0   \n",
       "4          NaN   NaN    30.0        30.0     0.0   \n",
       "\n",
       "                                             Summary  \n",
       "0  During a demonstration flight, a U.S. Army fly...  \n",
       "1  First U.S. dirigible Akron exploded just offsh...  \n",
       "2  The first fatal airplane accident in Canada oc...  \n",
       "3  The airship flew into a thunderstorm and encou...  \n",
       "4  Hydrogen gas which was being vented was sucked...  "
      ]
     },
     "execution_count": 3,
     "metadata": {},
     "output_type": "execute_result"
    }
   ],
   "source": [
    "df.head()"
   ]
  },
  {
   "cell_type": "markdown",
   "id": "0b19b5ba",
   "metadata": {
    "papermill": {
     "duration": 0.019029,
     "end_time": "2022-07-23T07:46:41.107833",
     "exception": false,
     "start_time": "2022-07-23T07:46:41.088804",
     "status": "completed"
    },
    "tags": []
   },
   "source": [
    "we can see columns like that"
   ]
  },
  {
   "cell_type": "code",
   "execution_count": 4,
   "id": "521f0304",
   "metadata": {
    "execution": {
     "iopub.execute_input": "2022-07-23T07:46:41.148308Z",
     "iopub.status.busy": "2022-07-23T07:46:41.147220Z",
     "iopub.status.idle": "2022-07-23T07:46:41.153815Z",
     "shell.execute_reply": "2022-07-23T07:46:41.153169Z"
    },
    "papermill": {
     "duration": 0.028956,
     "end_time": "2022-07-23T07:46:41.155772",
     "exception": false,
     "start_time": "2022-07-23T07:46:41.126816",
     "status": "completed"
    },
    "tags": []
   },
   "outputs": [
    {
     "data": {
      "text/plain": [
       "Index(['Date', 'Time', 'Location', 'Operator', 'Flight #', 'Route', 'Type',\n",
       "       'Registration', 'cn/In', 'Aboard', 'Fatalities', 'Ground', 'Summary'],\n",
       "      dtype='object')"
      ]
     },
     "execution_count": 4,
     "metadata": {},
     "output_type": "execute_result"
    }
   ],
   "source": [
    "df.columns"
   ]
  },
  {
   "cell_type": "markdown",
   "id": "3b0494b8",
   "metadata": {
    "papermill": {
     "duration": 0.018892,
     "end_time": "2022-07-23T07:46:41.193844",
     "exception": false,
     "start_time": "2022-07-23T07:46:41.174952",
     "status": "completed"
    },
    "tags": []
   },
   "source": [
    "using shape helps us to see data shape (how many columns and rows exist)"
   ]
  },
  {
   "cell_type": "code",
   "execution_count": 5,
   "id": "0616540f",
   "metadata": {
    "execution": {
     "iopub.execute_input": "2022-07-23T07:46:41.233854Z",
     "iopub.status.busy": "2022-07-23T07:46:41.233421Z",
     "iopub.status.idle": "2022-07-23T07:46:41.238067Z",
     "shell.execute_reply": "2022-07-23T07:46:41.237332Z"
    },
    "papermill": {
     "duration": 0.027804,
     "end_time": "2022-07-23T07:46:41.240909",
     "exception": false,
     "start_time": "2022-07-23T07:46:41.213105",
     "status": "completed"
    },
    "tags": []
   },
   "outputs": [
    {
     "data": {
      "text/plain": [
       "(5268, 13)"
      ]
     },
     "execution_count": 5,
     "metadata": {},
     "output_type": "execute_result"
    }
   ],
   "source": [
    "df.shape"
   ]
  },
  {
   "cell_type": "code",
   "execution_count": 6,
   "id": "a8ac03e6",
   "metadata": {
    "execution": {
     "iopub.execute_input": "2022-07-23T07:46:41.281041Z",
     "iopub.status.busy": "2022-07-23T07:46:41.280751Z",
     "iopub.status.idle": "2022-07-23T07:46:41.309835Z",
     "shell.execute_reply": "2022-07-23T07:46:41.308844Z"
    },
    "papermill": {
     "duration": 0.051944,
     "end_time": "2022-07-23T07:46:41.312426",
     "exception": false,
     "start_time": "2022-07-23T07:46:41.260482",
     "status": "completed"
    },
    "tags": []
   },
   "outputs": [
    {
     "name": "stdout",
     "output_type": "stream",
     "text": [
      "<class 'pandas.core.frame.DataFrame'>\n",
      "RangeIndex: 5268 entries, 0 to 5267\n",
      "Data columns (total 13 columns):\n",
      " #   Column        Non-Null Count  Dtype  \n",
      "---  ------        --------------  -----  \n",
      " 0   Date          5268 non-null   object \n",
      " 1   Time          3049 non-null   object \n",
      " 2   Location      5248 non-null   object \n",
      " 3   Operator      5250 non-null   object \n",
      " 4   Flight #      1069 non-null   object \n",
      " 5   Route         3562 non-null   object \n",
      " 6   Type          5241 non-null   object \n",
      " 7   Registration  4933 non-null   object \n",
      " 8   cn/In         4040 non-null   object \n",
      " 9   Aboard        5246 non-null   float64\n",
      " 10  Fatalities    5256 non-null   float64\n",
      " 11  Ground        5246 non-null   float64\n",
      " 12  Summary       4878 non-null   object \n",
      "dtypes: float64(3), object(10)\n",
      "memory usage: 535.2+ KB\n"
     ]
    }
   ],
   "source": [
    "df.info()"
   ]
  },
  {
   "cell_type": "markdown",
   "id": "fdd00b60",
   "metadata": {
    "papermill": {
     "duration": 0.018808,
     "end_time": "2022-07-23T07:46:41.350414",
     "exception": false,
     "start_time": "2022-07-23T07:46:41.331606",
     "status": "completed"
    },
    "tags": []
   },
   "source": [
    "find null values "
   ]
  },
  {
   "cell_type": "code",
   "execution_count": 7,
   "id": "0cdbf33d",
   "metadata": {
    "execution": {
     "iopub.execute_input": "2022-07-23T07:46:41.390277Z",
     "iopub.status.busy": "2022-07-23T07:46:41.389869Z",
     "iopub.status.idle": "2022-07-23T07:46:41.404619Z",
     "shell.execute_reply": "2022-07-23T07:46:41.403261Z"
    },
    "papermill": {
     "duration": 0.037536,
     "end_time": "2022-07-23T07:46:41.407028",
     "exception": false,
     "start_time": "2022-07-23T07:46:41.369492",
     "status": "completed"
    },
    "tags": []
   },
   "outputs": [
    {
     "data": {
      "text/plain": [
       "Date               0\n",
       "Time            2219\n",
       "Location          20\n",
       "Operator          18\n",
       "Flight #        4199\n",
       "Route           1706\n",
       "Type              27\n",
       "Registration     335\n",
       "cn/In           1228\n",
       "Aboard            22\n",
       "Fatalities        12\n",
       "Ground            22\n",
       "Summary          390\n",
       "dtype: int64"
      ]
     },
     "execution_count": 7,
     "metadata": {},
     "output_type": "execute_result"
    }
   ],
   "source": [
    "df.isnull().sum()"
   ]
  },
  {
   "cell_type": "code",
   "execution_count": 8,
   "id": "2f8107e5",
   "metadata": {
    "execution": {
     "iopub.execute_input": "2022-07-23T07:46:41.447908Z",
     "iopub.status.busy": "2022-07-23T07:46:41.447228Z",
     "iopub.status.idle": "2022-07-23T07:46:42.240195Z",
     "shell.execute_reply": "2022-07-23T07:46:42.239545Z"
    },
    "papermill": {
     "duration": 0.816103,
     "end_time": "2022-07-23T07:46:42.242698",
     "exception": false,
     "start_time": "2022-07-23T07:46:41.426595",
     "status": "completed"
    },
    "tags": []
   },
   "outputs": [
    {
     "data": {
      "image/png": "[encoded data removed]",
      "text/plain": [
       "<Figure size 2500x1000 with 3 Axes>"
      ]
     },
     "metadata": {},
     "output_type": "display_data"
    }
   ],
   "source": [
    "msn.bar(df)\n",
    "plt.show()"
   ]
  },
  {
   "cell_type": "markdown",
   "id": "18f1e41a",
   "metadata": {
    "papermill": {
     "duration": 0.01988,
     "end_time": "2022-07-23T07:46:42.282578",
     "exception": false,
     "start_time": "2022-07-23T07:46:42.262698",
     "status": "completed"
    },
    "tags": []
   },
   "source": [
    "it is the percentage of null values and we can see which column should be dropped"
   ]
  },
  {
   "cell_type": "code",
   "execution_count": 9,
   "id": "64f64521",
   "metadata": {
    "execution": {
     "iopub.execute_input": "2022-07-23T07:46:42.323951Z",
     "iopub.status.busy": "2022-07-23T07:46:42.323639Z",
     "iopub.status.idle": "2022-07-23T07:46:42.336713Z",
     "shell.execute_reply": "2022-07-23T07:46:42.334915Z"
    },
    "papermill": {
     "duration": 0.036028,
     "end_time": "2022-07-23T07:46:42.338837",
     "exception": false,
     "start_time": "2022-07-23T07:46:42.302809",
     "status": "completed"
    },
    "tags": []
   },
   "outputs": [
    {
     "data": {
      "text/plain": [
       "Date            0.000000\n",
       "Time            0.421222\n",
       "Location        0.003797\n",
       "Operator        0.003417\n",
       "Flight #        0.797077\n",
       "Route           0.323842\n",
       "Type            0.005125\n",
       "Registration    0.063591\n",
       "cn/In           0.233106\n",
       "Aboard          0.004176\n",
       "Fatalities      0.002278\n",
       "Ground          0.004176\n",
       "Summary         0.074032\n",
       "dtype: float64"
      ]
     },
     "execution_count": 9,
     "metadata": {},
     "output_type": "execute_result"
    }
   ],
   "source": [
    "df.isnull().sum()/df.shape[0]"
   ]
  },
  {
   "cell_type": "markdown",
   "id": "a76a0e92",
   "metadata": {
    "papermill": {
     "duration": 0.019668,
     "end_time": "2022-07-23T07:46:42.379179",
     "exception": false,
     "start_time": "2022-07-23T07:46:42.359511",
     "status": "completed"
    },
    "tags": []
   },
   "source": [
    "if in a column null values are more than 50% let's drop column "
   ]
  },
  {
   "cell_type": "code",
   "execution_count": 10,
   "id": "825247e3",
   "metadata": {
    "execution": {
     "iopub.execute_input": "2022-07-23T07:46:42.420699Z",
     "iopub.status.busy": "2022-07-23T07:46:42.420365Z",
     "iopub.status.idle": "2022-07-23T07:46:42.424977Z",
     "shell.execute_reply": "2022-07-23T07:46:42.424426Z"
    },
    "papermill": {
     "duration": 0.027444,
     "end_time": "2022-07-23T07:46:42.426828",
     "exception": false,
     "start_time": "2022-07-23T07:46:42.399384",
     "status": "completed"
    },
    "tags": []
   },
   "outputs": [],
   "source": [
    "df.drop('Flight #', axis=1,inplace=True)\n"
   ]
  },
  {
   "cell_type": "code",
   "execution_count": 11,
   "id": "45589b63",
   "metadata": {
    "execution": {
     "iopub.execute_input": "2022-07-23T07:46:42.469935Z",
     "iopub.status.busy": "2022-07-23T07:46:42.469420Z",
     "iopub.status.idle": "2022-07-23T07:46:42.487904Z",
     "shell.execute_reply": "2022-07-23T07:46:42.487336Z"
    },
    "papermill": {
     "duration": 0.042161,
     "end_time": "2022-07-23T07:46:42.489784",
     "exception": false,
     "start_time": "2022-07-23T07:46:42.447623",
     "status": "completed"
    },
    "tags": []
   },
   "outputs": [
    {
     "data": {
      "text/html": [
       "<div>\n",
       "<style scoped>\n",
       "    .dataframe tbody tr th:only-of-type {\n",
       "        vertical-align: middle;\n",
       "    }\n",
       "\n",
       "    .dataframe tbody tr th {\n",
       "        vertical-align: top;\n",
       "    }\n",
       "\n",
       "    .dataframe thead th {\n",
       "        text-align: right;\n",
       "    }\n",
       "</style>\n",
       "<table border=\"1\" class=\"dataframe\">\n",
       "  <thead>\n",
       "    <tr style=\"text-align: right;\">\n",
       "      <th></th>\n",
       "      <th>Date</th>\n",
       "      <th>Time</th>\n",
       "      <th>Location</th>\n",
       "      <th>Operator</th>\n",
       "      <th>Route</th>\n",
       "      <th>Type</th>\n",
       "      <th>Registration</th>\n",
       "      <th>cn/In</th>\n",
       "      <th>Aboard</th>\n",
       "      <th>Fatalities</th>\n",
       "      <th>Ground</th>\n",
       "      <th>Summary</th>\n",
       "    </tr>\n",
       "  </thead>\n",
       "  <tbody>\n",
       "    <tr>\n",
       "      <th>0</th>\n",
       "      <td>09/17/1908</td>\n",
       "      <td>17:18</td>\n",
       "      <td>Fort Myer, Virginia</td>\n",
       "      <td>Military - U.S. Army</td>\n",
       "      <td>Demonstration</td>\n",
       "      <td>Wright Flyer III</td>\n",
       "      <td>NaN</td>\n",
       "      <td>1</td>\n",
       "      <td>2.0</td>\n",
       "      <td>1.0</td>\n",
       "      <td>0.0</td>\n",
       "      <td>During a demonstration flight, a U.S. Army fly...</td>\n",
       "    </tr>\n",
       "    <tr>\n",
       "      <th>1</th>\n",
       "      <td>07/12/1912</td>\n",
       "      <td>06:30</td>\n",
       "      <td>AtlantiCity, New Jersey</td>\n",
       "      <td>Military - U.S. Navy</td>\n",
       "      <td>Test flight</td>\n",
       "      <td>Dirigible</td>\n",
       "      <td>NaN</td>\n",
       "      <td>NaN</td>\n",
       "      <td>5.0</td>\n",
       "      <td>5.0</td>\n",
       "      <td>0.0</td>\n",
       "      <td>First U.S. dirigible Akron exploded just offsh...</td>\n",
       "    </tr>\n",
       "    <tr>\n",
       "      <th>2</th>\n",
       "      <td>08/06/1913</td>\n",
       "      <td>NaN</td>\n",
       "      <td>Victoria, British Columbia, Canada</td>\n",
       "      <td>Private</td>\n",
       "      <td>NaN</td>\n",
       "      <td>Curtiss seaplane</td>\n",
       "      <td>NaN</td>\n",
       "      <td>NaN</td>\n",
       "      <td>1.0</td>\n",
       "      <td>1.0</td>\n",
       "      <td>0.0</td>\n",
       "      <td>The first fatal airplane accident in Canada oc...</td>\n",
       "    </tr>\n",
       "    <tr>\n",
       "      <th>3</th>\n",
       "      <td>09/09/1913</td>\n",
       "      <td>18:30</td>\n",
       "      <td>Over the North Sea</td>\n",
       "      <td>Military - German Navy</td>\n",
       "      <td>NaN</td>\n",
       "      <td>Zeppelin L-1 (airship)</td>\n",
       "      <td>NaN</td>\n",
       "      <td>NaN</td>\n",
       "      <td>20.0</td>\n",
       "      <td>14.0</td>\n",
       "      <td>0.0</td>\n",
       "      <td>The airship flew into a thunderstorm and encou...</td>\n",
       "    </tr>\n",
       "    <tr>\n",
       "      <th>4</th>\n",
       "      <td>10/17/1913</td>\n",
       "      <td>10:30</td>\n",
       "      <td>Near Johannisthal, Germany</td>\n",
       "      <td>Military - German Navy</td>\n",
       "      <td>NaN</td>\n",
       "      <td>Zeppelin L-2 (airship)</td>\n",
       "      <td>NaN</td>\n",
       "      <td>NaN</td>\n",
       "      <td>30.0</td>\n",
       "      <td>30.0</td>\n",
       "      <td>0.0</td>\n",
       "      <td>Hydrogen gas which was being vented was sucked...</td>\n",
       "    </tr>\n",
       "    <tr>\n",
       "      <th>5</th>\n",
       "      <td>03/05/1915</td>\n",
       "      <td>01:00</td>\n",
       "      <td>Tienen, Belgium</td>\n",
       "      <td>Military - German Navy</td>\n",
       "      <td>NaN</td>\n",
       "      <td>Zeppelin L-8 (airship)</td>\n",
       "      <td>NaN</td>\n",
       "      <td>NaN</td>\n",
       "      <td>41.0</td>\n",
       "      <td>21.0</td>\n",
       "      <td>0.0</td>\n",
       "      <td>Crashed into trees while attempting to land af...</td>\n",
       "    </tr>\n",
       "    <tr>\n",
       "      <th>6</th>\n",
       "      <td>09/03/1915</td>\n",
       "      <td>15:20</td>\n",
       "      <td>Off Cuxhaven, Germany</td>\n",
       "      <td>Military - German Navy</td>\n",
       "      <td>NaN</td>\n",
       "      <td>Zeppelin L-10 (airship)</td>\n",
       "      <td>NaN</td>\n",
       "      <td>NaN</td>\n",
       "      <td>19.0</td>\n",
       "      <td>19.0</td>\n",
       "      <td>0.0</td>\n",
       "      <td>Exploded and burned near Neuwerk Island,  when...</td>\n",
       "    </tr>\n",
       "    <tr>\n",
       "      <th>7</th>\n",
       "      <td>07/28/1916</td>\n",
       "      <td>NaN</td>\n",
       "      <td>Near Jambol, Bulgeria</td>\n",
       "      <td>Military - German Army</td>\n",
       "      <td>NaN</td>\n",
       "      <td>Schutte-Lanz S-L-10 (airship)</td>\n",
       "      <td>NaN</td>\n",
       "      <td>NaN</td>\n",
       "      <td>20.0</td>\n",
       "      <td>20.0</td>\n",
       "      <td>0.0</td>\n",
       "      <td>Crashed near the Black Sea, cause unknown.</td>\n",
       "    </tr>\n",
       "    <tr>\n",
       "      <th>8</th>\n",
       "      <td>09/24/1916</td>\n",
       "      <td>01:00</td>\n",
       "      <td>Billericay, England</td>\n",
       "      <td>Military - German Navy</td>\n",
       "      <td>NaN</td>\n",
       "      <td>Zeppelin L-32 (airship)</td>\n",
       "      <td>NaN</td>\n",
       "      <td>NaN</td>\n",
       "      <td>22.0</td>\n",
       "      <td>22.0</td>\n",
       "      <td>0.0</td>\n",
       "      <td>Shot down by British aircraft crashing in flames.</td>\n",
       "    </tr>\n",
       "    <tr>\n",
       "      <th>9</th>\n",
       "      <td>10/01/1916</td>\n",
       "      <td>23:45</td>\n",
       "      <td>Potters Bar, England</td>\n",
       "      <td>Military - German Navy</td>\n",
       "      <td>NaN</td>\n",
       "      <td>Zeppelin L-31 (airship)</td>\n",
       "      <td>NaN</td>\n",
       "      <td>NaN</td>\n",
       "      <td>19.0</td>\n",
       "      <td>19.0</td>\n",
       "      <td>0.0</td>\n",
       "      <td>Shot down in flames by the British 39th Home D...</td>\n",
       "    </tr>\n",
       "    <tr>\n",
       "      <th>10</th>\n",
       "      <td>11/21/1916</td>\n",
       "      <td>NaN</td>\n",
       "      <td>Mainz, Germany</td>\n",
       "      <td>Military - German Army</td>\n",
       "      <td>NaN</td>\n",
       "      <td>Super Zeppelin (airship)</td>\n",
       "      <td>NaN</td>\n",
       "      <td>NaN</td>\n",
       "      <td>28.0</td>\n",
       "      <td>27.0</td>\n",
       "      <td>0.0</td>\n",
       "      <td>Crashed in a storm.</td>\n",
       "    </tr>\n",
       "    <tr>\n",
       "      <th>11</th>\n",
       "      <td>11/28/1916</td>\n",
       "      <td>23:45</td>\n",
       "      <td>Off West Hartlepool, England</td>\n",
       "      <td>Military - German Navy</td>\n",
       "      <td>NaN</td>\n",
       "      <td>Zeppelin L-34 (airship)</td>\n",
       "      <td>NaN</td>\n",
       "      <td>NaN</td>\n",
       "      <td>20.0</td>\n",
       "      <td>20.0</td>\n",
       "      <td>0.0</td>\n",
       "      <td>Shot down by British anti-aircraft fire and ai...</td>\n",
       "    </tr>\n",
       "    <tr>\n",
       "      <th>12</th>\n",
       "      <td>03/04/1917</td>\n",
       "      <td>NaN</td>\n",
       "      <td>Near Gent, Belgium</td>\n",
       "      <td>Military - German Army</td>\n",
       "      <td>NaN</td>\n",
       "      <td>Airship</td>\n",
       "      <td>NaN</td>\n",
       "      <td>NaN</td>\n",
       "      <td>20.0</td>\n",
       "      <td>20.0</td>\n",
       "      <td>0.0</td>\n",
       "      <td>Caught fire and crashed.</td>\n",
       "    </tr>\n",
       "    <tr>\n",
       "      <th>13</th>\n",
       "      <td>03/30/1917</td>\n",
       "      <td>NaN</td>\n",
       "      <td>Off Northern Germany</td>\n",
       "      <td>Military - German Navy</td>\n",
       "      <td>NaN</td>\n",
       "      <td>Schutte-Lanz S-L-9 (airship)</td>\n",
       "      <td>NaN</td>\n",
       "      <td>NaN</td>\n",
       "      <td>23.0</td>\n",
       "      <td>23.0</td>\n",
       "      <td>0.0</td>\n",
       "      <td>Struck by lightning and crashed into the Balti...</td>\n",
       "    </tr>\n",
       "    <tr>\n",
       "      <th>14</th>\n",
       "      <td>05/14/1917</td>\n",
       "      <td>05:15</td>\n",
       "      <td>Near Texel Island, North Sea</td>\n",
       "      <td>Military - German Navy</td>\n",
       "      <td>NaN</td>\n",
       "      <td>Zeppelin L-22 (airship)</td>\n",
       "      <td>NaN</td>\n",
       "      <td>NaN</td>\n",
       "      <td>21.0</td>\n",
       "      <td>21.0</td>\n",
       "      <td>0.0</td>\n",
       "      <td>Crashed into the sea from an altitude of 3,000...</td>\n",
       "    </tr>\n",
       "    <tr>\n",
       "      <th>15</th>\n",
       "      <td>06/14/1917</td>\n",
       "      <td>08:45</td>\n",
       "      <td>Off Vlieland Island, North Sea</td>\n",
       "      <td>Military - German Navy</td>\n",
       "      <td>NaN</td>\n",
       "      <td>Zeppelin L-43 (airship)</td>\n",
       "      <td>NaN</td>\n",
       "      <td>NaN</td>\n",
       "      <td>24.0</td>\n",
       "      <td>24.0</td>\n",
       "      <td>0.0</td>\n",
       "      <td>Shot down by British aircraft.</td>\n",
       "    </tr>\n",
       "    <tr>\n",
       "      <th>16</th>\n",
       "      <td>08/21/1917</td>\n",
       "      <td>07:00</td>\n",
       "      <td>Off western Denmark</td>\n",
       "      <td>Military - German Navy</td>\n",
       "      <td>NaN</td>\n",
       "      <td>Zeppelin L-23 (airship)</td>\n",
       "      <td>NaN</td>\n",
       "      <td>NaN</td>\n",
       "      <td>18.0</td>\n",
       "      <td>18.0</td>\n",
       "      <td>0.0</td>\n",
       "      <td>Shot down by British aircraft.</td>\n",
       "    </tr>\n",
       "    <tr>\n",
       "      <th>17</th>\n",
       "      <td>10/20/1917</td>\n",
       "      <td>07:45</td>\n",
       "      <td>Near Luneville, France</td>\n",
       "      <td>Military - German Navy</td>\n",
       "      <td>NaN</td>\n",
       "      <td>Zeppelin L-44 (airship)</td>\n",
       "      <td>NaN</td>\n",
       "      <td>NaN</td>\n",
       "      <td>18.0</td>\n",
       "      <td>18.0</td>\n",
       "      <td>0.0</td>\n",
       "      <td>Shot down by French anti-aircraft fire.</td>\n",
       "    </tr>\n",
       "    <tr>\n",
       "      <th>18</th>\n",
       "      <td>04/07/1918</td>\n",
       "      <td>21:30</td>\n",
       "      <td>Over the Mediterranean</td>\n",
       "      <td>Military - German Navy</td>\n",
       "      <td>NaN</td>\n",
       "      <td>Zeppelin L-59 (airship)</td>\n",
       "      <td>NaN</td>\n",
       "      <td>NaN</td>\n",
       "      <td>23.0</td>\n",
       "      <td>23.0</td>\n",
       "      <td>0.0</td>\n",
       "      <td>Exploded and crashed into the sea off the sout...</td>\n",
       "    </tr>\n",
       "    <tr>\n",
       "      <th>19</th>\n",
       "      <td>05/10/1918</td>\n",
       "      <td>NaN</td>\n",
       "      <td>Off Helgoland Island, Germany</td>\n",
       "      <td>Military - German Navy</td>\n",
       "      <td>NaN</td>\n",
       "      <td>Zeppelin L-70 (airship)</td>\n",
       "      <td>NaN</td>\n",
       "      <td>NaN</td>\n",
       "      <td>22.0</td>\n",
       "      <td>22.0</td>\n",
       "      <td>0.0</td>\n",
       "      <td>Shot down by British aircraft crashing from a ...</td>\n",
       "    </tr>\n",
       "  </tbody>\n",
       "</table>\n",
       "</div>"
      ],
      "text/plain": [
       "          Date   Time                            Location  \\\n",
       "0   09/17/1908  17:18                 Fort Myer, Virginia   \n",
       "1   07/12/1912  06:30             AtlantiCity, New Jersey   \n",
       "2   08/06/1913    NaN  Victoria, British Columbia, Canada   \n",
       "3   09/09/1913  18:30                  Over the North Sea   \n",
       "4   10/17/1913  10:30          Near Johannisthal, Germany   \n",
       "5   03/05/1915  01:00                     Tienen, Belgium   \n",
       "6   09/03/1915  15:20               Off Cuxhaven, Germany   \n",
       "7   07/28/1916    NaN               Near Jambol, Bulgeria   \n",
       "8   09/24/1916  01:00                 Billericay, England   \n",
       "9   10/01/1916  23:45                Potters Bar, England   \n",
       "10  11/21/1916    NaN                      Mainz, Germany   \n",
       "11  11/28/1916  23:45        Off West Hartlepool, England   \n",
       "12  03/04/1917    NaN                  Near Gent, Belgium   \n",
       "13  03/30/1917    NaN                Off Northern Germany   \n",
       "14  05/14/1917  05:15        Near Texel Island, North Sea   \n",
       "15  06/14/1917  08:45      Off Vlieland Island, North Sea   \n",
       "16  08/21/1917  07:00                 Off western Denmark   \n",
       "17  10/20/1917  07:45              Near Luneville, France   \n",
       "18  04/07/1918  21:30              Over the Mediterranean   \n",
       "19  05/10/1918    NaN       Off Helgoland Island, Germany   \n",
       "\n",
       "                  Operator          Route                           Type  \\\n",
       "0     Military - U.S. Army  Demonstration               Wright Flyer III   \n",
       "1     Military - U.S. Navy    Test flight                      Dirigible   \n",
       "2                  Private            NaN               Curtiss seaplane   \n",
       "3   Military - German Navy            NaN         Zeppelin L-1 (airship)   \n",
       "4   Military - German Navy            NaN         Zeppelin L-2 (airship)   \n",
       "5   Military - German Navy            NaN         Zeppelin L-8 (airship)   \n",
       "6   Military - German Navy            NaN        Zeppelin L-10 (airship)   \n",
       "7   Military - German Army            NaN  Schutte-Lanz S-L-10 (airship)   \n",
       "8   Military - German Navy            NaN        Zeppelin L-32 (airship)   \n",
       "9   Military - German Navy            NaN        Zeppelin L-31 (airship)   \n",
       "10  Military - German Army            NaN       Super Zeppelin (airship)   \n",
       "11  Military - German Navy            NaN        Zeppelin L-34 (airship)   \n",
       "12  Military - German Army            NaN                        Airship   \n",
       "13  Military - German Navy            NaN   Schutte-Lanz S-L-9 (airship)   \n",
       "14  Military - German Navy            NaN        Zeppelin L-22 (airship)   \n",
       "15  Military - German Navy            NaN        Zeppelin L-43 (airship)   \n",
       "16  Military - German Navy            NaN        Zeppelin L-23 (airship)   \n",
       "17  Military - German Navy            NaN        Zeppelin L-44 (airship)   \n",
       "18  Military - German Navy            NaN        Zeppelin L-59 (airship)   \n",
       "19  Military - German Navy            NaN        Zeppelin L-70 (airship)   \n",
       "\n",
       "   Registration cn/In  Aboard  Fatalities  Ground  \\\n",
       "0           NaN     1     2.0         1.0     0.0   \n",
       "1           NaN   NaN     5.0         5.0     0.0   \n",
       "2           NaN   NaN     1.0         1.0     0.0   \n",
       "3           NaN   NaN    20.0        14.0     0.0   \n",
       "4           NaN   NaN    30.0        30.0     0.0   \n",
       "5           NaN   NaN    41.0        21.0     0.0   \n",
       "6           NaN   NaN    19.0        19.0     0.0   \n",
       "7           NaN   NaN    20.0        20.0     0.0   \n",
       "8           NaN   NaN    22.0        22.0     0.0   \n",
       "9           NaN   NaN    19.0        19.0     0.0   \n",
       "10          NaN   NaN    28.0        27.0     0.0   \n",
       "11          NaN   NaN    20.0        20.0     0.0   \n",
       "12          NaN   NaN    20.0        20.0     0.0   \n",
       "13          NaN   NaN    23.0        23.0     0.0   \n",
       "14          NaN   NaN    21.0        21.0     0.0   \n",
       "15          NaN   NaN    24.0        24.0     0.0   \n",
       "16          NaN   NaN    18.0        18.0     0.0   \n",
       "17          NaN   NaN    18.0        18.0     0.0   \n",
       "18          NaN   NaN    23.0        23.0     0.0   \n",
       "19          NaN   NaN    22.0        22.0     0.0   \n",
       "\n",
       "                                              Summary  \n",
       "0   During a demonstration flight, a U.S. Army fly...  \n",
       "1   First U.S. dirigible Akron exploded just offsh...  \n",
       "2   The first fatal airplane accident in Canada oc...  \n",
       "3   The airship flew into a thunderstorm and encou...  \n",
       "4   Hydrogen gas which was being vented was sucked...  \n",
       "5   Crashed into trees while attempting to land af...  \n",
       "6   Exploded and burned near Neuwerk Island,  when...  \n",
       "7          Crashed near the Black Sea, cause unknown.  \n",
       "8   Shot down by British aircraft crashing in flames.  \n",
       "9   Shot down in flames by the British 39th Home D...  \n",
       "10                                Crashed in a storm.  \n",
       "11  Shot down by British anti-aircraft fire and ai...  \n",
       "12                           Caught fire and crashed.  \n",
       "13  Struck by lightning and crashed into the Balti...  \n",
       "14  Crashed into the sea from an altitude of 3,000...  \n",
       "15                     Shot down by British aircraft.  \n",
       "16                     Shot down by British aircraft.  \n",
       "17            Shot down by French anti-aircraft fire.  \n",
       "18  Exploded and crashed into the sea off the sout...  \n",
       "19  Shot down by British aircraft crashing from a ...  "
      ]
     },
     "execution_count": 11,
     "metadata": {},
     "output_type": "execute_result"
    }
   ],
   "source": [
    "df.head(20)"
   ]
  },
  {
   "cell_type": "code",
   "execution_count": 12,
   "id": "3e744bad",
   "metadata": {
    "execution": {
     "iopub.execute_input": "2022-07-23T07:46:42.532774Z",
     "iopub.status.busy": "2022-07-23T07:46:42.532108Z",
     "iopub.status.idle": "2022-07-23T07:46:42.544221Z",
     "shell.execute_reply": "2022-07-23T07:46:42.543673Z"
    },
    "papermill": {
     "duration": 0.035471,
     "end_time": "2022-07-23T07:46:42.546011",
     "exception": false,
     "start_time": "2022-07-23T07:46:42.510540",
     "status": "completed"
    },
    "tags": []
   },
   "outputs": [
    {
     "data": {
      "text/plain": [
       "0.0       5027\n",
       "1.0         53\n",
       "2.0         27\n",
       "3.0         21\n",
       "4.0         15\n",
       "5.0         10\n",
       "8.0         10\n",
       "7.0          8\n",
       "11.0         6\n",
       "6.0          6\n",
       "22.0         5\n",
       "13.0         4\n",
       "24.0         3\n",
       "10.0         3\n",
       "44.0         3\n",
       "20.0         3\n",
       "14.0         2\n",
       "2750.0       2\n",
       "30.0         2\n",
       "12.0         2\n",
       "19.0         2\n",
       "47.0         2\n",
       "52.0         2\n",
       "70.0         2\n",
       "54.0         1\n",
       "18.0         1\n",
       "45.0         1\n",
       "16.0         1\n",
       "35.0         1\n",
       "50.0         1\n",
       "23.0         1\n",
       "225.0        1\n",
       "125.0        1\n",
       "75.0         1\n",
       "15.0         1\n",
       "32.0         1\n",
       "49.0         1\n",
       "9.0          1\n",
       "40.0         1\n",
       "36.0         1\n",
       "113.0        1\n",
       "107.0        1\n",
       "33.0         1\n",
       "87.0         1\n",
       "31.0         1\n",
       "63.0         1\n",
       "17.0         1\n",
       "37.0         1\n",
       "58.0         1\n",
       "85.0         1\n",
       "Name: Ground, dtype: int64"
      ]
     },
     "execution_count": 12,
     "metadata": {},
     "output_type": "execute_result"
    }
   ],
   "source": [
    "df['Ground'].value_counts()"
   ]
  },
  {
   "cell_type": "code",
   "execution_count": 13,
   "id": "5e2ca57c",
   "metadata": {
    "execution": {
     "iopub.execute_input": "2022-07-23T07:46:42.589590Z",
     "iopub.status.busy": "2022-07-23T07:46:42.589079Z",
     "iopub.status.idle": "2022-07-23T07:46:42.603371Z",
     "shell.execute_reply": "2022-07-23T07:46:42.602679Z"
    },
    "papermill": {
     "duration": 0.037873,
     "end_time": "2022-07-23T07:46:42.604942",
     "exception": false,
     "start_time": "2022-07-23T07:46:42.567069",
     "status": "completed"
    },
    "tags": []
   },
   "outputs": [
    {
     "data": {
      "text/plain": [
       "Date            4753\n",
       "Time            1005\n",
       "Location        4303\n",
       "Operator        2476\n",
       "Route           3244\n",
       "Type            2446\n",
       "Registration    4905\n",
       "cn/In           3707\n",
       "Aboard           239\n",
       "Fatalities       191\n",
       "Ground            50\n",
       "Summary         4673\n",
       "dtype: int64"
      ]
     },
     "execution_count": 13,
     "metadata": {},
     "output_type": "execute_result"
    }
   ],
   "source": [
    "df.nunique()"
   ]
  },
  {
   "cell_type": "markdown",
   "id": "aaaab94e",
   "metadata": {
    "papermill": {
     "duration": 0.012662,
     "end_time": "2022-07-23T07:46:42.630754",
     "exception": false,
     "start_time": "2022-07-23T07:46:42.618092",
     "status": "completed"
    },
    "tags": []
   },
   "source": [
    "using describe you can see std,min,max,mean"
   ]
  },
  {
   "cell_type": "code",
   "execution_count": 14,
   "id": "158e4752",
   "metadata": {
    "execution": {
     "iopub.execute_input": "2022-07-23T07:46:42.658399Z",
     "iopub.status.busy": "2022-07-23T07:46:42.658022Z",
     "iopub.status.idle": "2022-07-23T07:46:42.683153Z",
     "shell.execute_reply": "2022-07-23T07:46:42.682193Z"
    },
    "papermill": {
     "duration": 0.041248,
     "end_time": "2022-07-23T07:46:42.684897",
     "exception": false,
     "start_time": "2022-07-23T07:46:42.643649",
     "status": "completed"
    },
    "tags": []
   },
   "outputs": [
    {
     "data": {
      "text/html": [
       "<div>\n",
       "<style scoped>\n",
       "    .dataframe tbody tr th:only-of-type {\n",
       "        vertical-align: middle;\n",
       "    }\n",
       "\n",
       "    .dataframe tbody tr th {\n",
       "        vertical-align: top;\n",
       "    }\n",
       "\n",
       "    .dataframe thead th {\n",
       "        text-align: right;\n",
       "    }\n",
       "</style>\n",
       "<table border=\"1\" class=\"dataframe\">\n",
       "  <thead>\n",
       "    <tr style=\"text-align: right;\">\n",
       "      <th></th>\n",
       "      <th>count</th>\n",
       "      <th>mean</th>\n",
       "      <th>std</th>\n",
       "      <th>min</th>\n",
       "      <th>25%</th>\n",
       "      <th>50%</th>\n",
       "      <th>75%</th>\n",
       "      <th>max</th>\n",
       "    </tr>\n",
       "  </thead>\n",
       "  <tbody>\n",
       "    <tr>\n",
       "      <th>Aboard</th>\n",
       "      <td>5246.0</td>\n",
       "      <td>27.554518</td>\n",
       "      <td>43.076711</td>\n",
       "      <td>0.0</td>\n",
       "      <td>5.0</td>\n",
       "      <td>13.0</td>\n",
       "      <td>30.0</td>\n",
       "      <td>644.0</td>\n",
       "    </tr>\n",
       "    <tr>\n",
       "      <th>Fatalities</th>\n",
       "      <td>5256.0</td>\n",
       "      <td>20.068303</td>\n",
       "      <td>33.199952</td>\n",
       "      <td>0.0</td>\n",
       "      <td>3.0</td>\n",
       "      <td>9.0</td>\n",
       "      <td>23.0</td>\n",
       "      <td>583.0</td>\n",
       "    </tr>\n",
       "    <tr>\n",
       "      <th>Ground</th>\n",
       "      <td>5246.0</td>\n",
       "      <td>1.608845</td>\n",
       "      <td>53.987827</td>\n",
       "      <td>0.0</td>\n",
       "      <td>0.0</td>\n",
       "      <td>0.0</td>\n",
       "      <td>0.0</td>\n",
       "      <td>2750.0</td>\n",
       "    </tr>\n",
       "  </tbody>\n",
       "</table>\n",
       "</div>"
      ],
      "text/plain": [
       "             count       mean        std  min  25%   50%   75%     max\n",
       "Aboard      5246.0  27.554518  43.076711  0.0  5.0  13.0  30.0   644.0\n",
       "Fatalities  5256.0  20.068303  33.199952  0.0  3.0   9.0  23.0   583.0\n",
       "Ground      5246.0   1.608845  53.987827  0.0  0.0   0.0   0.0  2750.0"
      ]
     },
     "execution_count": 14,
     "metadata": {},
     "output_type": "execute_result"
    }
   ],
   "source": [
    "df.describe().T"
   ]
  },
  {
   "cell_type": "code",
   "execution_count": 15,
   "id": "c064e3bd",
   "metadata": {
    "execution": {
     "iopub.execute_input": "2022-07-23T07:46:42.713820Z",
     "iopub.status.busy": "2022-07-23T07:46:42.712803Z",
     "iopub.status.idle": "2022-07-23T07:46:42.731475Z",
     "shell.execute_reply": "2022-07-23T07:46:42.729925Z"
    },
    "papermill": {
     "duration": 0.035326,
     "end_time": "2022-07-23T07:46:42.733789",
     "exception": false,
     "start_time": "2022-07-23T07:46:42.698463",
     "status": "completed"
    },
    "scrolled": true,
    "tags": []
   },
   "outputs": [
    {
     "data": {
      "text/html": [
       "<div>\n",
       "<style scoped>\n",
       "    .dataframe tbody tr th:only-of-type {\n",
       "        vertical-align: middle;\n",
       "    }\n",
       "\n",
       "    .dataframe tbody tr th {\n",
       "        vertical-align: top;\n",
       "    }\n",
       "\n",
       "    .dataframe thead th {\n",
       "        text-align: right;\n",
       "    }\n",
       "</style>\n",
       "<table border=\"1\" class=\"dataframe\">\n",
       "  <thead>\n",
       "    <tr style=\"text-align: right;\">\n",
       "      <th></th>\n",
       "      <th>Date</th>\n",
       "      <th>Time</th>\n",
       "      <th>Location</th>\n",
       "      <th>Operator</th>\n",
       "      <th>Route</th>\n",
       "      <th>Type</th>\n",
       "      <th>Registration</th>\n",
       "      <th>cn/In</th>\n",
       "      <th>Aboard</th>\n",
       "      <th>Fatalities</th>\n",
       "      <th>Ground</th>\n",
       "      <th>Summary</th>\n",
       "    </tr>\n",
       "  </thead>\n",
       "  <tbody>\n",
       "    <tr>\n",
       "      <th>0</th>\n",
       "      <td>09/17/1908</td>\n",
       "      <td>17:18</td>\n",
       "      <td>Fort Myer, Virginia</td>\n",
       "      <td>Military - U.S. Army</td>\n",
       "      <td>Demonstration</td>\n",
       "      <td>Wright Flyer III</td>\n",
       "      <td>NaN</td>\n",
       "      <td>1</td>\n",
       "      <td>2.0</td>\n",
       "      <td>1.0</td>\n",
       "      <td>0.0</td>\n",
       "      <td>During a demonstration flight, a U.S. Army fly...</td>\n",
       "    </tr>\n",
       "    <tr>\n",
       "      <th>1</th>\n",
       "      <td>07/12/1912</td>\n",
       "      <td>06:30</td>\n",
       "      <td>AtlantiCity, New Jersey</td>\n",
       "      <td>Military - U.S. Navy</td>\n",
       "      <td>Test flight</td>\n",
       "      <td>Dirigible</td>\n",
       "      <td>NaN</td>\n",
       "      <td>NaN</td>\n",
       "      <td>5.0</td>\n",
       "      <td>5.0</td>\n",
       "      <td>0.0</td>\n",
       "      <td>First U.S. dirigible Akron exploded just offsh...</td>\n",
       "    </tr>\n",
       "    <tr>\n",
       "      <th>2</th>\n",
       "      <td>08/06/1913</td>\n",
       "      <td>NaN</td>\n",
       "      <td>Victoria, British Columbia, Canada</td>\n",
       "      <td>Private</td>\n",
       "      <td>NaN</td>\n",
       "      <td>Curtiss seaplane</td>\n",
       "      <td>NaN</td>\n",
       "      <td>NaN</td>\n",
       "      <td>1.0</td>\n",
       "      <td>1.0</td>\n",
       "      <td>0.0</td>\n",
       "      <td>The first fatal airplane accident in Canada oc...</td>\n",
       "    </tr>\n",
       "    <tr>\n",
       "      <th>3</th>\n",
       "      <td>09/09/1913</td>\n",
       "      <td>18:30</td>\n",
       "      <td>Over the North Sea</td>\n",
       "      <td>Military - German Navy</td>\n",
       "      <td>NaN</td>\n",
       "      <td>Zeppelin L-1 (airship)</td>\n",
       "      <td>NaN</td>\n",
       "      <td>NaN</td>\n",
       "      <td>20.0</td>\n",
       "      <td>14.0</td>\n",
       "      <td>0.0</td>\n",
       "      <td>The airship flew into a thunderstorm and encou...</td>\n",
       "    </tr>\n",
       "    <tr>\n",
       "      <th>4</th>\n",
       "      <td>10/17/1913</td>\n",
       "      <td>10:30</td>\n",
       "      <td>Near Johannisthal, Germany</td>\n",
       "      <td>Military - German Navy</td>\n",
       "      <td>NaN</td>\n",
       "      <td>Zeppelin L-2 (airship)</td>\n",
       "      <td>NaN</td>\n",
       "      <td>NaN</td>\n",
       "      <td>30.0</td>\n",
       "      <td>30.0</td>\n",
       "      <td>0.0</td>\n",
       "      <td>Hydrogen gas which was being vented was sucked...</td>\n",
       "    </tr>\n",
       "  </tbody>\n",
       "</table>\n",
       "</div>"
      ],
      "text/plain": [
       "         Date   Time                            Location  \\\n",
       "0  09/17/1908  17:18                 Fort Myer, Virginia   \n",
       "1  07/12/1912  06:30             AtlantiCity, New Jersey   \n",
       "2  08/06/1913    NaN  Victoria, British Columbia, Canada   \n",
       "3  09/09/1913  18:30                  Over the North Sea   \n",
       "4  10/17/1913  10:30          Near Johannisthal, Germany   \n",
       "\n",
       "                 Operator          Route                    Type Registration  \\\n",
       "0    Military - U.S. Army  Demonstration        Wright Flyer III          NaN   \n",
       "1    Military - U.S. Navy    Test flight               Dirigible          NaN   \n",
       "2                 Private            NaN        Curtiss seaplane          NaN   \n",
       "3  Military - German Navy            NaN  Zeppelin L-1 (airship)          NaN   \n",
       "4  Military - German Navy            NaN  Zeppelin L-2 (airship)          NaN   \n",
       "\n",
       "  cn/In  Aboard  Fatalities  Ground  \\\n",
       "0     1     2.0         1.0     0.0   \n",
       "1   NaN     5.0         5.0     0.0   \n",
       "2   NaN     1.0         1.0     0.0   \n",
       "3   NaN    20.0        14.0     0.0   \n",
       "4   NaN    30.0        30.0     0.0   \n",
       "\n",
       "                                             Summary  \n",
       "0  During a demonstration flight, a U.S. Army fly...  \n",
       "1  First U.S. dirigible Akron exploded just offsh...  \n",
       "2  The first fatal airplane accident in Canada oc...  \n",
       "3  The airship flew into a thunderstorm and encou...  \n",
       "4  Hydrogen gas which was being vented was sucked...  "
      ]
     },
     "execution_count": 15,
     "metadata": {},
     "output_type": "execute_result"
    }
   ],
   "source": [
    "df.head(5)"
   ]
  },
  {
   "cell_type": "code",
   "execution_count": 16,
   "id": "462dfb6e",
   "metadata": {
    "execution": {
     "iopub.execute_input": "2022-07-23T07:46:42.780003Z",
     "iopub.status.busy": "2022-07-23T07:46:42.779017Z",
     "iopub.status.idle": "2022-07-23T07:46:42.787018Z",
     "shell.execute_reply": "2022-07-23T07:46:42.785968Z"
    },
    "papermill": {
     "duration": 0.033364,
     "end_time": "2022-07-23T07:46:42.789079",
     "exception": false,
     "start_time": "2022-07-23T07:46:42.755715",
     "status": "completed"
    },
    "tags": []
   },
   "outputs": [
    {
     "data": {
      "text/plain": [
       "21.94979079497908"
      ]
     },
     "execution_count": 16,
     "metadata": {},
     "output_type": "execute_result"
    }
   ],
   "source": [
    "df['Aboard'].value_counts().mean()"
   ]
  },
  {
   "cell_type": "code",
   "execution_count": 17,
   "id": "a5dd53e8",
   "metadata": {
    "execution": {
     "iopub.execute_input": "2022-07-23T07:46:42.835028Z",
     "iopub.status.busy": "2022-07-23T07:46:42.834098Z",
     "iopub.status.idle": "2022-07-23T07:46:42.840803Z",
     "shell.execute_reply": "2022-07-23T07:46:42.839830Z"
    },
    "papermill": {
     "duration": 0.031848,
     "end_time": "2022-07-23T07:46:42.842969",
     "exception": false,
     "start_time": "2022-07-23T07:46:42.811121",
     "status": "completed"
    },
    "tags": []
   },
   "outputs": [
    {
     "data": {
      "text/plain": [
       "239"
      ]
     },
     "execution_count": 17,
     "metadata": {},
     "output_type": "execute_result"
    }
   ],
   "source": [
    "df['Aboard'].nunique()"
   ]
  },
  {
   "cell_type": "code",
   "execution_count": 18,
   "id": "f24d22fb",
   "metadata": {
    "execution": {
     "iopub.execute_input": "2022-07-23T07:46:42.888790Z",
     "iopub.status.busy": "2022-07-23T07:46:42.888502Z",
     "iopub.status.idle": "2022-07-23T07:46:42.897379Z",
     "shell.execute_reply": "2022-07-23T07:46:42.896689Z"
    },
    "papermill": {
     "duration": 0.033618,
     "end_time": "2022-07-23T07:46:42.898864",
     "exception": false,
     "start_time": "2022-07-23T07:46:42.865246",
     "status": "completed"
    },
    "tags": []
   },
   "outputs": [
    {
     "data": {
      "text/plain": [
       "Sao Paulo, Brazil                    15\n",
       "Moscow, Russia                       15\n",
       "Rio de Janeiro, Brazil               14\n",
       "Anchorage, Alaska                    13\n",
       "Manila, Philippines                  13\n",
       "                                     ..\n",
       "Near Charana, Bolivia                 1\n",
       "Monte Matto, Italy                    1\n",
       "Misaki Mountain, Japan                1\n",
       "Angelholm, Sweden                     1\n",
       "State of Arunachal Pradesh, India     1\n",
       "Name: Location, Length: 4303, dtype: int64"
      ]
     },
     "execution_count": 18,
     "metadata": {},
     "output_type": "execute_result"
    }
   ],
   "source": [
    "df['Location'].value_counts()"
   ]
  },
  {
   "cell_type": "code",
   "execution_count": 19,
   "id": "65ce6d47",
   "metadata": {
    "execution": {
     "iopub.execute_input": "2022-07-23T07:46:42.929447Z",
     "iopub.status.busy": "2022-07-23T07:46:42.928815Z",
     "iopub.status.idle": "2022-07-23T07:46:42.946322Z",
     "shell.execute_reply": "2022-07-23T07:46:42.945521Z"
    },
    "papermill": {
     "duration": 0.034479,
     "end_time": "2022-07-23T07:46:42.947833",
     "exception": false,
     "start_time": "2022-07-23T07:46:42.913354",
     "status": "completed"
    },
    "tags": []
   },
   "outputs": [
    {
     "data": {
      "text/html": [
       "<div>\n",
       "<style scoped>\n",
       "    .dataframe tbody tr th:only-of-type {\n",
       "        vertical-align: middle;\n",
       "    }\n",
       "\n",
       "    .dataframe tbody tr th {\n",
       "        vertical-align: top;\n",
       "    }\n",
       "\n",
       "    .dataframe thead th {\n",
       "        text-align: right;\n",
       "    }\n",
       "</style>\n",
       "<table border=\"1\" class=\"dataframe\">\n",
       "  <thead>\n",
       "    <tr style=\"text-align: right;\">\n",
       "      <th></th>\n",
       "      <th>Date</th>\n",
       "      <th>Time</th>\n",
       "      <th>Location</th>\n",
       "      <th>Operator</th>\n",
       "      <th>Route</th>\n",
       "      <th>Type</th>\n",
       "      <th>Registration</th>\n",
       "      <th>cn/In</th>\n",
       "      <th>Aboard</th>\n",
       "      <th>Fatalities</th>\n",
       "      <th>Ground</th>\n",
       "      <th>Summary</th>\n",
       "    </tr>\n",
       "  </thead>\n",
       "  <tbody>\n",
       "    <tr>\n",
       "      <th>0</th>\n",
       "      <td>09/17/1908</td>\n",
       "      <td>17:18</td>\n",
       "      <td>Fort Myer, Virginia</td>\n",
       "      <td>Military - U.S. Army</td>\n",
       "      <td>Demonstration</td>\n",
       "      <td>Wright Flyer III</td>\n",
       "      <td>NaN</td>\n",
       "      <td>1</td>\n",
       "      <td>2.0</td>\n",
       "      <td>1.0</td>\n",
       "      <td>0.0</td>\n",
       "      <td>During a demonstration flight, a U.S. Army fly...</td>\n",
       "    </tr>\n",
       "    <tr>\n",
       "      <th>1</th>\n",
       "      <td>07/12/1912</td>\n",
       "      <td>06:30</td>\n",
       "      <td>AtlantiCity, New Jersey</td>\n",
       "      <td>Military - U.S. Navy</td>\n",
       "      <td>Test flight</td>\n",
       "      <td>Dirigible</td>\n",
       "      <td>NaN</td>\n",
       "      <td>NaN</td>\n",
       "      <td>5.0</td>\n",
       "      <td>5.0</td>\n",
       "      <td>0.0</td>\n",
       "      <td>First U.S. dirigible Akron exploded just offsh...</td>\n",
       "    </tr>\n",
       "    <tr>\n",
       "      <th>2</th>\n",
       "      <td>08/06/1913</td>\n",
       "      <td>NaN</td>\n",
       "      <td>Victoria, British Columbia, Canada</td>\n",
       "      <td>Private</td>\n",
       "      <td>NaN</td>\n",
       "      <td>Curtiss seaplane</td>\n",
       "      <td>NaN</td>\n",
       "      <td>NaN</td>\n",
       "      <td>1.0</td>\n",
       "      <td>1.0</td>\n",
       "      <td>0.0</td>\n",
       "      <td>The first fatal airplane accident in Canada oc...</td>\n",
       "    </tr>\n",
       "    <tr>\n",
       "      <th>3</th>\n",
       "      <td>09/09/1913</td>\n",
       "      <td>18:30</td>\n",
       "      <td>Over the North Sea</td>\n",
       "      <td>Military - German Navy</td>\n",
       "      <td>NaN</td>\n",
       "      <td>Zeppelin L-1 (airship)</td>\n",
       "      <td>NaN</td>\n",
       "      <td>NaN</td>\n",
       "      <td>20.0</td>\n",
       "      <td>14.0</td>\n",
       "      <td>0.0</td>\n",
       "      <td>The airship flew into a thunderstorm and encou...</td>\n",
       "    </tr>\n",
       "    <tr>\n",
       "      <th>4</th>\n",
       "      <td>10/17/1913</td>\n",
       "      <td>10:30</td>\n",
       "      <td>Near Johannisthal, Germany</td>\n",
       "      <td>Military - German Navy</td>\n",
       "      <td>NaN</td>\n",
       "      <td>Zeppelin L-2 (airship)</td>\n",
       "      <td>NaN</td>\n",
       "      <td>NaN</td>\n",
       "      <td>30.0</td>\n",
       "      <td>30.0</td>\n",
       "      <td>0.0</td>\n",
       "      <td>Hydrogen gas which was being vented was sucked...</td>\n",
       "    </tr>\n",
       "  </tbody>\n",
       "</table>\n",
       "</div>"
      ],
      "text/plain": [
       "         Date   Time                            Location  \\\n",
       "0  09/17/1908  17:18                 Fort Myer, Virginia   \n",
       "1  07/12/1912  06:30             AtlantiCity, New Jersey   \n",
       "2  08/06/1913    NaN  Victoria, British Columbia, Canada   \n",
       "3  09/09/1913  18:30                  Over the North Sea   \n",
       "4  10/17/1913  10:30          Near Johannisthal, Germany   \n",
       "\n",
       "                 Operator          Route                    Type Registration  \\\n",
       "0    Military - U.S. Army  Demonstration        Wright Flyer III          NaN   \n",
       "1    Military - U.S. Navy    Test flight               Dirigible          NaN   \n",
       "2                 Private            NaN        Curtiss seaplane          NaN   \n",
       "3  Military - German Navy            NaN  Zeppelin L-1 (airship)          NaN   \n",
       "4  Military - German Navy            NaN  Zeppelin L-2 (airship)          NaN   \n",
       "\n",
       "  cn/In  Aboard  Fatalities  Ground  \\\n",
       "0     1     2.0         1.0     0.0   \n",
       "1   NaN     5.0         5.0     0.0   \n",
       "2   NaN     1.0         1.0     0.0   \n",
       "3   NaN    20.0        14.0     0.0   \n",
       "4   NaN    30.0        30.0     0.0   \n",
       "\n",
       "                                             Summary  \n",
       "0  During a demonstration flight, a U.S. Army fly...  \n",
       "1  First U.S. dirigible Akron exploded just offsh...  \n",
       "2  The first fatal airplane accident in Canada oc...  \n",
       "3  The airship flew into a thunderstorm and encou...  \n",
       "4  Hydrogen gas which was being vented was sucked...  "
      ]
     },
     "execution_count": 19,
     "metadata": {},
     "output_type": "execute_result"
    }
   ],
   "source": [
    "df.head()"
   ]
  },
  {
   "cell_type": "code",
   "execution_count": 20,
   "id": "e37da626",
   "metadata": {
    "execution": {
     "iopub.execute_input": "2022-07-23T07:46:42.977527Z",
     "iopub.status.busy": "2022-07-23T07:46:42.976926Z",
     "iopub.status.idle": "2022-07-23T07:46:42.989781Z",
     "shell.execute_reply": "2022-07-23T07:46:42.988706Z"
    },
    "papermill": {
     "duration": 0.029535,
     "end_time": "2022-07-23T07:46:42.991429",
     "exception": false,
     "start_time": "2022-07-23T07:46:42.961894",
     "status": "completed"
    },
    "tags": []
   },
   "outputs": [
    {
     "data": {
      "text/html": [
       "<div>\n",
       "<style scoped>\n",
       "    .dataframe tbody tr th:only-of-type {\n",
       "        vertical-align: middle;\n",
       "    }\n",
       "\n",
       "    .dataframe tbody tr th {\n",
       "        vertical-align: top;\n",
       "    }\n",
       "\n",
       "    .dataframe thead th {\n",
       "        text-align: right;\n",
       "    }\n",
       "</style>\n",
       "<table border=\"1\" class=\"dataframe\">\n",
       "  <thead>\n",
       "    <tr style=\"text-align: right;\">\n",
       "      <th></th>\n",
       "      <th>Location</th>\n",
       "      <th>Summary</th>\n",
       "    </tr>\n",
       "  </thead>\n",
       "  <tbody>\n",
       "    <tr>\n",
       "      <th>469</th>\n",
       "      <td>Sao Paulo, Brazil</td>\n",
       "      <td>The mail plane crashed while taking off.</td>\n",
       "    </tr>\n",
       "    <tr>\n",
       "      <th>664</th>\n",
       "      <td>Sao Paulo, Brazil</td>\n",
       "      <td>Crashed in fog.</td>\n",
       "    </tr>\n",
       "    <tr>\n",
       "      <th>836</th>\n",
       "      <td>Sao Paulo, Brazil</td>\n",
       "      <td>Crashed into the Solimoes extension of the Ama...</td>\n",
       "    </tr>\n",
       "    <tr>\n",
       "      <th>1148</th>\n",
       "      <td>Sao Paulo, Brazil</td>\n",
       "      <td>Crashed into a house shortly after taking off ...</td>\n",
       "    </tr>\n",
       "    <tr>\n",
       "      <th>1203</th>\n",
       "      <td>Sao Paulo, Brazil</td>\n",
       "      <td>Crashed while attempting to make an emergency ...</td>\n",
       "    </tr>\n",
       "    <tr>\n",
       "      <th>1269</th>\n",
       "      <td>Sao Paulo, Brazil</td>\n",
       "      <td>Crashed while on final approach to Sao Paulo. ...</td>\n",
       "    </tr>\n",
       "    <tr>\n",
       "      <th>1327</th>\n",
       "      <td>Sao Paulo, Brazil</td>\n",
       "      <td>The cargo plane crashed on takeoff. Elevator l...</td>\n",
       "    </tr>\n",
       "    <tr>\n",
       "      <th>1406</th>\n",
       "      <td>Sao Paulo, Brazil</td>\n",
       "      <td>Crashed on takeoff.</td>\n",
       "    </tr>\n",
       "    <tr>\n",
       "      <th>1619</th>\n",
       "      <td>Sao Paulo, Brazil</td>\n",
       "      <td>Crashed a few minutes after taking off from Sa...</td>\n",
       "    </tr>\n",
       "    <tr>\n",
       "      <th>1828</th>\n",
       "      <td>Sao Paulo, Brazil</td>\n",
       "      <td>The crippled airliner crashed into houses and ...</td>\n",
       "    </tr>\n",
       "    <tr>\n",
       "      <th>1848</th>\n",
       "      <td>Sao Paulo, Brazil</td>\n",
       "      <td>The aircraft returned to airport after the No....</td>\n",
       "    </tr>\n",
       "    <tr>\n",
       "      <th>3601</th>\n",
       "      <td>Sao Paulo, Brazil</td>\n",
       "      <td>The crew accidently tried to take off from a t...</td>\n",
       "    </tr>\n",
       "    <tr>\n",
       "      <th>4406</th>\n",
       "      <td>Sao Paulo, Brazil</td>\n",
       "      <td>The crew was advised they were too high and fa...</td>\n",
       "    </tr>\n",
       "    <tr>\n",
       "      <th>5159</th>\n",
       "      <td>Sao Paulo, Brazil</td>\n",
       "      <td>The jet airliner crashed while attempting to l...</td>\n",
       "    </tr>\n",
       "    <tr>\n",
       "      <th>5177</th>\n",
       "      <td>Sao Paulo, Brazil</td>\n",
       "      <td>The executive jet took off, banked to the righ...</td>\n",
       "    </tr>\n",
       "  </tbody>\n",
       "</table>\n",
       "</div>"
      ],
      "text/plain": [
       "               Location                                            Summary\n",
       "469   Sao Paulo, Brazil           The mail plane crashed while taking off.\n",
       "664   Sao Paulo, Brazil                                    Crashed in fog.\n",
       "836   Sao Paulo, Brazil  Crashed into the Solimoes extension of the Ama...\n",
       "1148  Sao Paulo, Brazil  Crashed into a house shortly after taking off ...\n",
       "1203  Sao Paulo, Brazil  Crashed while attempting to make an emergency ...\n",
       "1269  Sao Paulo, Brazil  Crashed while on final approach to Sao Paulo. ...\n",
       "1327  Sao Paulo, Brazil  The cargo plane crashed on takeoff. Elevator l...\n",
       "1406  Sao Paulo, Brazil                                Crashed on takeoff.\n",
       "1619  Sao Paulo, Brazil  Crashed a few minutes after taking off from Sa...\n",
       "1828  Sao Paulo, Brazil  The crippled airliner crashed into houses and ...\n",
       "1848  Sao Paulo, Brazil  The aircraft returned to airport after the No....\n",
       "3601  Sao Paulo, Brazil  The crew accidently tried to take off from a t...\n",
       "4406  Sao Paulo, Brazil  The crew was advised they were too high and fa...\n",
       "5159  Sao Paulo, Brazil  The jet airliner crashed while attempting to l...\n",
       "5177  Sao Paulo, Brazil  The executive jet took off, banked to the righ..."
      ]
     },
     "execution_count": 20,
     "metadata": {},
     "output_type": "execute_result"
    }
   ],
   "source": [
    "df[(df['Location']=='Sao Paulo, Brazil')][['Location','Summary']]\n"
   ]
  },
  {
   "cell_type": "code",
   "execution_count": 21,
   "id": "d8e4614b",
   "metadata": {
    "execution": {
     "iopub.execute_input": "2022-07-23T07:46:43.022086Z",
     "iopub.status.busy": "2022-07-23T07:46:43.021543Z",
     "iopub.status.idle": "2022-07-23T07:46:43.040132Z",
     "shell.execute_reply": "2022-07-23T07:46:43.039099Z"
    },
    "papermill": {
     "duration": 0.036077,
     "end_time": "2022-07-23T07:46:43.042227",
     "exception": false,
     "start_time": "2022-07-23T07:46:43.006150",
     "status": "completed"
    },
    "tags": []
   },
   "outputs": [
    {
     "data": {
      "text/html": [
       "<div>\n",
       "<style scoped>\n",
       "    .dataframe tbody tr th:only-of-type {\n",
       "        vertical-align: middle;\n",
       "    }\n",
       "\n",
       "    .dataframe tbody tr th {\n",
       "        vertical-align: top;\n",
       "    }\n",
       "\n",
       "    .dataframe thead th {\n",
       "        text-align: right;\n",
       "    }\n",
       "</style>\n",
       "<table border=\"1\" class=\"dataframe\">\n",
       "  <thead>\n",
       "    <tr style=\"text-align: right;\">\n",
       "      <th></th>\n",
       "      <th>Date</th>\n",
       "      <th>Time</th>\n",
       "      <th>Location</th>\n",
       "      <th>Operator</th>\n",
       "      <th>Route</th>\n",
       "      <th>Type</th>\n",
       "      <th>Registration</th>\n",
       "      <th>cn/In</th>\n",
       "      <th>Aboard</th>\n",
       "      <th>Fatalities</th>\n",
       "      <th>Ground</th>\n",
       "      <th>Summary</th>\n",
       "    </tr>\n",
       "  </thead>\n",
       "  <tbody>\n",
       "    <tr>\n",
       "      <th>1406</th>\n",
       "      <td>12/19/1955</td>\n",
       "      <td>NaN</td>\n",
       "      <td>Sao Paulo, Brazil</td>\n",
       "      <td>Cruzeiro Do Sud</td>\n",
       "      <td>Sao Paulo - Belem</td>\n",
       "      <td>Douglas DC-3</td>\n",
       "      <td>NaN</td>\n",
       "      <td>NaN</td>\n",
       "      <td>26.0</td>\n",
       "      <td>26.0</td>\n",
       "      <td>0.0</td>\n",
       "      <td>Crashed on takeoff.</td>\n",
       "    </tr>\n",
       "    <tr>\n",
       "      <th>1848</th>\n",
       "      <td>05/03/1963</td>\n",
       "      <td>NaN</td>\n",
       "      <td>Sao Paulo, Brazil</td>\n",
       "      <td>Cruzeiro</td>\n",
       "      <td>Sao Paulo - Rio de Janeiro</td>\n",
       "      <td>Convair CV-340-59</td>\n",
       "      <td>PP-CDW</td>\n",
       "      <td>159</td>\n",
       "      <td>50.0</td>\n",
       "      <td>37.0</td>\n",
       "      <td>0.0</td>\n",
       "      <td>The aircraft returned to airport after the No....</td>\n",
       "    </tr>\n",
       "    <tr>\n",
       "      <th>5159</th>\n",
       "      <td>07/17/2007</td>\n",
       "      <td>18:52</td>\n",
       "      <td>Sao Paulo, Brazil</td>\n",
       "      <td>TAM (Brazil)</td>\n",
       "      <td>Porto Alegre - Sao Paulo</td>\n",
       "      <td>Airbus A-320-233</td>\n",
       "      <td>PR-MBK</td>\n",
       "      <td>789</td>\n",
       "      <td>187.0</td>\n",
       "      <td>187.0</td>\n",
       "      <td>12.0</td>\n",
       "      <td>The jet airliner crashed while attempting to l...</td>\n",
       "    </tr>\n",
       "  </tbody>\n",
       "</table>\n",
       "</div>"
      ],
      "text/plain": [
       "            Date   Time           Location         Operator  \\\n",
       "1406  12/19/1955    NaN  Sao Paulo, Brazil  Cruzeiro Do Sud   \n",
       "1848  05/03/1963    NaN  Sao Paulo, Brazil         Cruzeiro   \n",
       "5159  07/17/2007  18:52  Sao Paulo, Brazil     TAM (Brazil)   \n",
       "\n",
       "                           Route               Type Registration cn/In  \\\n",
       "1406           Sao Paulo - Belem       Douglas DC-3          NaN   NaN   \n",
       "1848  Sao Paulo - Rio de Janeiro  Convair CV-340-59       PP-CDW   159   \n",
       "5159    Porto Alegre - Sao Paulo   Airbus A-320-233       PR-MBK   789   \n",
       "\n",
       "      Aboard  Fatalities  Ground  \\\n",
       "1406    26.0        26.0     0.0   \n",
       "1848    50.0        37.0     0.0   \n",
       "5159   187.0       187.0    12.0   \n",
       "\n",
       "                                                Summary  \n",
       "1406                                Crashed on takeoff.  \n",
       "1848  The aircraft returned to airport after the No....  \n",
       "5159  The jet airliner crashed while attempting to l...  "
      ]
     },
     "execution_count": 21,
     "metadata": {},
     "output_type": "execute_result"
    }
   ],
   "source": [
    "df[(df['Fatalities']>20) & (df['Location']=='Sao Paulo, Brazil')]"
   ]
  },
  {
   "cell_type": "code",
   "execution_count": 22,
   "id": "217b929c",
   "metadata": {
    "execution": {
     "iopub.execute_input": "2022-07-23T07:46:43.090973Z",
     "iopub.status.busy": "2022-07-23T07:46:43.090350Z",
     "iopub.status.idle": "2022-07-23T07:46:43.108575Z",
     "shell.execute_reply": "2022-07-23T07:46:43.107673Z"
    },
    "papermill": {
     "duration": 0.044686,
     "end_time": "2022-07-23T07:46:43.110590",
     "exception": false,
     "start_time": "2022-07-23T07:46:43.065904",
     "status": "completed"
    },
    "tags": []
   },
   "outputs": [
    {
     "data": {
      "text/html": [
       "<div>\n",
       "<style scoped>\n",
       "    .dataframe tbody tr th:only-of-type {\n",
       "        vertical-align: middle;\n",
       "    }\n",
       "\n",
       "    .dataframe tbody tr th {\n",
       "        vertical-align: top;\n",
       "    }\n",
       "\n",
       "    .dataframe thead th {\n",
       "        text-align: right;\n",
       "    }\n",
       "</style>\n",
       "<table border=\"1\" class=\"dataframe\">\n",
       "  <thead>\n",
       "    <tr style=\"text-align: right;\">\n",
       "      <th></th>\n",
       "      <th>Date</th>\n",
       "      <th>Time</th>\n",
       "      <th>Location</th>\n",
       "      <th>Operator</th>\n",
       "      <th>Route</th>\n",
       "      <th>Type</th>\n",
       "      <th>Registration</th>\n",
       "      <th>cn/In</th>\n",
       "      <th>Aboard</th>\n",
       "      <th>Fatalities</th>\n",
       "      <th>Ground</th>\n",
       "      <th>Summary</th>\n",
       "    </tr>\n",
       "  </thead>\n",
       "  <tbody>\n",
       "    <tr>\n",
       "      <th>0</th>\n",
       "      <td>09/17/1908</td>\n",
       "      <td>17:18</td>\n",
       "      <td>Fort Myer, Virginia</td>\n",
       "      <td>Military - U.S. Army</td>\n",
       "      <td>Demonstration</td>\n",
       "      <td>Wright Flyer III</td>\n",
       "      <td>NaN</td>\n",
       "      <td>1</td>\n",
       "      <td>2.0</td>\n",
       "      <td>1.0</td>\n",
       "      <td>0.0</td>\n",
       "      <td>During a demonstration flight, a U.S. Army fly...</td>\n",
       "    </tr>\n",
       "    <tr>\n",
       "      <th>1</th>\n",
       "      <td>07/12/1912</td>\n",
       "      <td>06:30</td>\n",
       "      <td>AtlantiCity, New Jersey</td>\n",
       "      <td>Military - U.S. Navy</td>\n",
       "      <td>Test flight</td>\n",
       "      <td>Dirigible</td>\n",
       "      <td>NaN</td>\n",
       "      <td>NaN</td>\n",
       "      <td>5.0</td>\n",
       "      <td>5.0</td>\n",
       "      <td>0.0</td>\n",
       "      <td>First U.S. dirigible Akron exploded just offsh...</td>\n",
       "    </tr>\n",
       "    <tr>\n",
       "      <th>2</th>\n",
       "      <td>08/06/1913</td>\n",
       "      <td>NaN</td>\n",
       "      <td>Victoria, British Columbia, Canada</td>\n",
       "      <td>Private</td>\n",
       "      <td>NaN</td>\n",
       "      <td>Curtiss seaplane</td>\n",
       "      <td>NaN</td>\n",
       "      <td>NaN</td>\n",
       "      <td>1.0</td>\n",
       "      <td>1.0</td>\n",
       "      <td>0.0</td>\n",
       "      <td>The first fatal airplane accident in Canada oc...</td>\n",
       "    </tr>\n",
       "    <tr>\n",
       "      <th>3</th>\n",
       "      <td>09/09/1913</td>\n",
       "      <td>18:30</td>\n",
       "      <td>Over the North Sea</td>\n",
       "      <td>Military - German Navy</td>\n",
       "      <td>NaN</td>\n",
       "      <td>Zeppelin L-1 (airship)</td>\n",
       "      <td>NaN</td>\n",
       "      <td>NaN</td>\n",
       "      <td>20.0</td>\n",
       "      <td>14.0</td>\n",
       "      <td>0.0</td>\n",
       "      <td>The airship flew into a thunderstorm and encou...</td>\n",
       "    </tr>\n",
       "    <tr>\n",
       "      <th>4</th>\n",
       "      <td>10/17/1913</td>\n",
       "      <td>10:30</td>\n",
       "      <td>Near Johannisthal, Germany</td>\n",
       "      <td>Military - German Navy</td>\n",
       "      <td>NaN</td>\n",
       "      <td>Zeppelin L-2 (airship)</td>\n",
       "      <td>NaN</td>\n",
       "      <td>NaN</td>\n",
       "      <td>30.0</td>\n",
       "      <td>30.0</td>\n",
       "      <td>0.0</td>\n",
       "      <td>Hydrogen gas which was being vented was sucked...</td>\n",
       "    </tr>\n",
       "  </tbody>\n",
       "</table>\n",
       "</div>"
      ],
      "text/plain": [
       "         Date   Time                            Location  \\\n",
       "0  09/17/1908  17:18                 Fort Myer, Virginia   \n",
       "1  07/12/1912  06:30             AtlantiCity, New Jersey   \n",
       "2  08/06/1913    NaN  Victoria, British Columbia, Canada   \n",
       "3  09/09/1913  18:30                  Over the North Sea   \n",
       "4  10/17/1913  10:30          Near Johannisthal, Germany   \n",
       "\n",
       "                 Operator          Route                    Type Registration  \\\n",
       "0    Military - U.S. Army  Demonstration        Wright Flyer III          NaN   \n",
       "1    Military - U.S. Navy    Test flight               Dirigible          NaN   \n",
       "2                 Private            NaN        Curtiss seaplane          NaN   \n",
       "3  Military - German Navy            NaN  Zeppelin L-1 (airship)          NaN   \n",
       "4  Military - German Navy            NaN  Zeppelin L-2 (airship)          NaN   \n",
       "\n",
       "  cn/In  Aboard  Fatalities  Ground  \\\n",
       "0     1     2.0         1.0     0.0   \n",
       "1   NaN     5.0         5.0     0.0   \n",
       "2   NaN     1.0         1.0     0.0   \n",
       "3   NaN    20.0        14.0     0.0   \n",
       "4   NaN    30.0        30.0     0.0   \n",
       "\n",
       "                                             Summary  \n",
       "0  During a demonstration flight, a U.S. Army fly...  \n",
       "1  First U.S. dirigible Akron exploded just offsh...  \n",
       "2  The first fatal airplane accident in Canada oc...  \n",
       "3  The airship flew into a thunderstorm and encou...  \n",
       "4  Hydrogen gas which was being vented was sucked...  "
      ]
     },
     "execution_count": 22,
     "metadata": {},
     "output_type": "execute_result"
    }
   ],
   "source": [
    "df.head(5)"
   ]
  },
  {
   "cell_type": "code",
   "execution_count": 23,
   "id": "5c08dc46",
   "metadata": {
    "execution": {
     "iopub.execute_input": "2022-07-23T07:46:43.160103Z",
     "iopub.status.busy": "2022-07-23T07:46:43.159467Z",
     "iopub.status.idle": "2022-07-23T07:46:43.390331Z",
     "shell.execute_reply": "2022-07-23T07:46:43.389273Z"
    },
    "papermill": {
     "duration": 0.257918,
     "end_time": "2022-07-23T07:46:43.392082",
     "exception": false,
     "start_time": "2022-07-23T07:46:43.134164",
     "status": "completed"
    },
    "tags": []
   },
   "outputs": [
    {
     "data": {
      "image/png": "[encoded data removed]",
      "text/plain": [
       "<Figure size 640x480 with 1 Axes>"
      ]
     },
     "metadata": {},
     "output_type": "display_data"
    }
   ],
   "source": [
    "df.plot(x=\"Aboard\", y=\"Fatalities\", kind=\"scatter\")\n",
    "plt.show() "
   ]
  },
  {
   "cell_type": "code",
   "execution_count": 24,
   "id": "e423ee67",
   "metadata": {
    "execution": {
     "iopub.execute_input": "2022-07-23T07:46:43.423560Z",
     "iopub.status.busy": "2022-07-23T07:46:43.423241Z",
     "iopub.status.idle": "2022-07-23T07:46:43.437877Z",
     "shell.execute_reply": "2022-07-23T07:46:43.436949Z"
    },
    "papermill": {
     "duration": 0.034299,
     "end_time": "2022-07-23T07:46:43.441479",
     "exception": false,
     "start_time": "2022-07-23T07:46:43.407180",
     "status": "completed"
    },
    "tags": []
   },
   "outputs": [
    {
     "data": {
      "text/html": [
       "<div>\n",
       "<style scoped>\n",
       "    .dataframe tbody tr th:only-of-type {\n",
       "        vertical-align: middle;\n",
       "    }\n",
       "\n",
       "    .dataframe tbody tr th {\n",
       "        vertical-align: top;\n",
       "    }\n",
       "\n",
       "    .dataframe thead th {\n",
       "        text-align: right;\n",
       "    }\n",
       "</style>\n",
       "<table border=\"1\" class=\"dataframe\">\n",
       "  <thead>\n",
       "    <tr style=\"text-align: right;\">\n",
       "      <th></th>\n",
       "      <th>Date</th>\n",
       "      <th>Time</th>\n",
       "      <th>Location</th>\n",
       "      <th>Operator</th>\n",
       "      <th>Route</th>\n",
       "      <th>Type</th>\n",
       "      <th>Registration</th>\n",
       "      <th>cn/In</th>\n",
       "      <th>Aboard</th>\n",
       "      <th>Fatalities</th>\n",
       "      <th>Ground</th>\n",
       "      <th>Summary</th>\n",
       "    </tr>\n",
       "  </thead>\n",
       "  <tbody>\n",
       "    <tr>\n",
       "      <th>0</th>\n",
       "      <td>09/17/1908</td>\n",
       "      <td>17:18</td>\n",
       "      <td>Fort Myer, Virginia</td>\n",
       "      <td>Military - U.S. Army</td>\n",
       "      <td>Demonstration</td>\n",
       "      <td>Wright Flyer III</td>\n",
       "      <td>NaN</td>\n",
       "      <td>1</td>\n",
       "      <td>2.0</td>\n",
       "      <td>1.0</td>\n",
       "      <td>0.0</td>\n",
       "      <td>During a demonstration flight, a U.S. Army fly...</td>\n",
       "    </tr>\n",
       "    <tr>\n",
       "      <th>1</th>\n",
       "      <td>07/12/1912</td>\n",
       "      <td>06:30</td>\n",
       "      <td>AtlantiCity, New Jersey</td>\n",
       "      <td>Military - U.S. Navy</td>\n",
       "      <td>Test flight</td>\n",
       "      <td>Dirigible</td>\n",
       "      <td>NaN</td>\n",
       "      <td>NaN</td>\n",
       "      <td>5.0</td>\n",
       "      <td>5.0</td>\n",
       "      <td>0.0</td>\n",
       "      <td>First U.S. dirigible Akron exploded just offsh...</td>\n",
       "    </tr>\n",
       "    <tr>\n",
       "      <th>2</th>\n",
       "      <td>08/06/1913</td>\n",
       "      <td>NaN</td>\n",
       "      <td>Victoria, British Columbia, Canada</td>\n",
       "      <td>Private</td>\n",
       "      <td>NaN</td>\n",
       "      <td>Curtiss seaplane</td>\n",
       "      <td>NaN</td>\n",
       "      <td>NaN</td>\n",
       "      <td>1.0</td>\n",
       "      <td>1.0</td>\n",
       "      <td>0.0</td>\n",
       "      <td>The first fatal airplane accident in Canada oc...</td>\n",
       "    </tr>\n",
       "    <tr>\n",
       "      <th>3</th>\n",
       "      <td>09/09/1913</td>\n",
       "      <td>18:30</td>\n",
       "      <td>Over the North Sea</td>\n",
       "      <td>Military - German Navy</td>\n",
       "      <td>NaN</td>\n",
       "      <td>Zeppelin L-1 (airship)</td>\n",
       "      <td>NaN</td>\n",
       "      <td>NaN</td>\n",
       "      <td>20.0</td>\n",
       "      <td>14.0</td>\n",
       "      <td>0.0</td>\n",
       "      <td>The airship flew into a thunderstorm and encou...</td>\n",
       "    </tr>\n",
       "    <tr>\n",
       "      <th>4</th>\n",
       "      <td>10/17/1913</td>\n",
       "      <td>10:30</td>\n",
       "      <td>Near Johannisthal, Germany</td>\n",
       "      <td>Military - German Navy</td>\n",
       "      <td>NaN</td>\n",
       "      <td>Zeppelin L-2 (airship)</td>\n",
       "      <td>NaN</td>\n",
       "      <td>NaN</td>\n",
       "      <td>30.0</td>\n",
       "      <td>30.0</td>\n",
       "      <td>0.0</td>\n",
       "      <td>Hydrogen gas which was being vented was sucked...</td>\n",
       "    </tr>\n",
       "  </tbody>\n",
       "</table>\n",
       "</div>"
      ],
      "text/plain": [
       "         Date   Time                            Location  \\\n",
       "0  09/17/1908  17:18                 Fort Myer, Virginia   \n",
       "1  07/12/1912  06:30             AtlantiCity, New Jersey   \n",
       "2  08/06/1913    NaN  Victoria, British Columbia, Canada   \n",
       "3  09/09/1913  18:30                  Over the North Sea   \n",
       "4  10/17/1913  10:30          Near Johannisthal, Germany   \n",
       "\n",
       "                 Operator          Route                    Type Registration  \\\n",
       "0    Military - U.S. Army  Demonstration        Wright Flyer III          NaN   \n",
       "1    Military - U.S. Navy    Test flight               Dirigible          NaN   \n",
       "2                 Private            NaN        Curtiss seaplane          NaN   \n",
       "3  Military - German Navy            NaN  Zeppelin L-1 (airship)          NaN   \n",
       "4  Military - German Navy            NaN  Zeppelin L-2 (airship)          NaN   \n",
       "\n",
       "  cn/In  Aboard  Fatalities  Ground  \\\n",
       "0     1     2.0         1.0     0.0   \n",
       "1   NaN     5.0         5.0     0.0   \n",
       "2   NaN     1.0         1.0     0.0   \n",
       "3   NaN    20.0        14.0     0.0   \n",
       "4   NaN    30.0        30.0     0.0   \n",
       "\n",
       "                                             Summary  \n",
       "0  During a demonstration flight, a U.S. Army fly...  \n",
       "1  First U.S. dirigible Akron exploded just offsh...  \n",
       "2  The first fatal airplane accident in Canada oc...  \n",
       "3  The airship flew into a thunderstorm and encou...  \n",
       "4  Hydrogen gas which was being vented was sucked...  "
      ]
     },
     "execution_count": 24,
     "metadata": {},
     "output_type": "execute_result"
    }
   ],
   "source": [
    "df.head()"
   ]
  },
  {
   "cell_type": "code",
   "execution_count": 25,
   "id": "31589b76",
   "metadata": {
    "execution": {
     "iopub.execute_input": "2022-07-23T07:46:43.491988Z",
     "iopub.status.busy": "2022-07-23T07:46:43.491328Z",
     "iopub.status.idle": "2022-07-23T07:46:43.498599Z",
     "shell.execute_reply": "2022-07-23T07:46:43.497974Z"
    },
    "papermill": {
     "duration": 0.034344,
     "end_time": "2022-07-23T07:46:43.500348",
     "exception": false,
     "start_time": "2022-07-23T07:46:43.466004",
     "status": "completed"
    },
    "tags": []
   },
   "outputs": [
    {
     "data": {
      "text/plain": [
       "Training                      81\n",
       "Sightseeing                   29\n",
       "Test flight                   17\n",
       "Test                           6\n",
       "Sao Paulo - Rio de Janeiro     5\n",
       "                              ..\n",
       "Manila - Lapu Lapu             1\n",
       "Saint Denis - Paris            1\n",
       "Cork - London                  1\n",
       "Peoria, IL - St. Louis, MO     1\n",
       "Mechuka for Jorhat             1\n",
       "Name: Route, Length: 3244, dtype: int64"
      ]
     },
     "execution_count": 25,
     "metadata": {},
     "output_type": "execute_result"
    }
   ],
   "source": [
    "df['Route'].value_counts()"
   ]
  },
  {
   "cell_type": "code",
   "execution_count": 26,
   "id": "61fb1a9a",
   "metadata": {
    "execution": {
     "iopub.execute_input": "2022-07-23T07:46:43.551992Z",
     "iopub.status.busy": "2022-07-23T07:46:43.551530Z",
     "iopub.status.idle": "2022-07-23T07:46:43.575059Z",
     "shell.execute_reply": "2022-07-23T07:46:43.574472Z"
    },
    "papermill": {
     "duration": 0.052307,
     "end_time": "2022-07-23T07:46:43.577091",
     "exception": false,
     "start_time": "2022-07-23T07:46:43.524784",
     "status": "completed"
    },
    "tags": []
   },
   "outputs": [],
   "source": [
    "df['Time'] = df['Time'].str.replace('c: ', '')\n",
    "df['Time'] = df['Time'].str.replace('c:', '')\n",
    "df['Time'] = df['Time'].str.replace('c', '')\n",
    "df['Time'] = df['Time'].str.replace('12\\'20', '12:20')\n",
    "df['Time'] = df['Time'].str.replace('18.40', '18:40')\n",
    "df['Time'] = df['Time'].str.replace('0943', '09:43')\n",
    "df['Time'] = df['Time'].str.replace('22\\'08', '22:08')\n",
    "df['Time'] = df['Time'].str.replace('114:20', '00:00')"
   ]
  },
  {
   "cell_type": "markdown",
   "id": "d559e596",
   "metadata": {
    "papermill": {
     "duration": 0.014762,
     "end_time": "2022-07-23T07:46:43.607035",
     "exception": false,
     "start_time": "2022-07-23T07:46:43.592273",
     "status": "completed"
    },
    "tags": []
   },
   "source": [
    "'Time' column has NaN so we are going to fillna"
   ]
  },
  {
   "cell_type": "code",
   "execution_count": 27,
   "id": "0ec24874",
   "metadata": {
    "execution": {
     "iopub.execute_input": "2022-07-23T07:46:43.638576Z",
     "iopub.status.busy": "2022-07-23T07:46:43.638007Z",
     "iopub.status.idle": "2022-07-23T07:46:43.643238Z",
     "shell.execute_reply": "2022-07-23T07:46:43.642606Z"
    },
    "papermill": {
     "duration": 0.022954,
     "end_time": "2022-07-23T07:46:43.644832",
     "exception": false,
     "start_time": "2022-07-23T07:46:43.621878",
     "status": "completed"
    },
    "tags": []
   },
   "outputs": [],
   "source": [
    "df['Time'] = df['Time'].fillna('00:00')"
   ]
  },
  {
   "cell_type": "markdown",
   "id": "33481bf3",
   "metadata": {
    "papermill": {
     "duration": 0.014842,
     "end_time": "2022-07-23T07:46:43.674698",
     "exception": false,
     "start_time": "2022-07-23T07:46:43.659856",
     "status": "completed"
    },
    "tags": []
   },
   "source": [
    "multiply two columns to create another one"
   ]
  },
  {
   "cell_type": "code",
   "execution_count": 28,
   "id": "940c1df9",
   "metadata": {
    "execution": {
     "iopub.execute_input": "2022-07-23T07:46:43.706649Z",
     "iopub.status.busy": "2022-07-23T07:46:43.706075Z",
     "iopub.status.idle": "2022-07-23T07:46:43.712414Z",
     "shell.execute_reply": "2022-07-23T07:46:43.711690Z"
    },
    "papermill": {
     "duration": 0.024431,
     "end_time": "2022-07-23T07:46:43.714125",
     "exception": false,
     "start_time": "2022-07-23T07:46:43.689694",
     "status": "completed"
    },
    "tags": []
   },
   "outputs": [],
   "source": [
    "df['DateTime'] = df['Date'] + ' ' + df['Time']"
   ]
  },
  {
   "cell_type": "code",
   "execution_count": 29,
   "id": "f398e678",
   "metadata": {
    "execution": {
     "iopub.execute_input": "2022-07-23T07:46:43.746339Z",
     "iopub.status.busy": "2022-07-23T07:46:43.745963Z",
     "iopub.status.idle": "2022-07-23T07:46:43.763494Z",
     "shell.execute_reply": "2022-07-23T07:46:43.762795Z"
    },
    "papermill": {
     "duration": 0.035432,
     "end_time": "2022-07-23T07:46:43.765037",
     "exception": false,
     "start_time": "2022-07-23T07:46:43.729605",
     "status": "completed"
    },
    "tags": []
   },
   "outputs": [
    {
     "data": {
      "text/html": [
       "<div>\n",
       "<style scoped>\n",
       "    .dataframe tbody tr th:only-of-type {\n",
       "        vertical-align: middle;\n",
       "    }\n",
       "\n",
       "    .dataframe tbody tr th {\n",
       "        vertical-align: top;\n",
       "    }\n",
       "\n",
       "    .dataframe thead th {\n",
       "        text-align: right;\n",
       "    }\n",
       "</style>\n",
       "<table border=\"1\" class=\"dataframe\">\n",
       "  <thead>\n",
       "    <tr style=\"text-align: right;\">\n",
       "      <th></th>\n",
       "      <th>Date</th>\n",
       "      <th>Time</th>\n",
       "      <th>Location</th>\n",
       "      <th>Operator</th>\n",
       "      <th>Route</th>\n",
       "      <th>Type</th>\n",
       "      <th>Registration</th>\n",
       "      <th>cn/In</th>\n",
       "      <th>Aboard</th>\n",
       "      <th>Fatalities</th>\n",
       "      <th>Ground</th>\n",
       "      <th>Summary</th>\n",
       "      <th>DateTime</th>\n",
       "    </tr>\n",
       "  </thead>\n",
       "  <tbody>\n",
       "    <tr>\n",
       "      <th>0</th>\n",
       "      <td>09/17/1908</td>\n",
       "      <td>17:18</td>\n",
       "      <td>Fort Myer, Virginia</td>\n",
       "      <td>Military - U.S. Army</td>\n",
       "      <td>Demonstration</td>\n",
       "      <td>Wright Flyer III</td>\n",
       "      <td>NaN</td>\n",
       "      <td>1</td>\n",
       "      <td>2.0</td>\n",
       "      <td>1.0</td>\n",
       "      <td>0.0</td>\n",
       "      <td>During a demonstration flight, a U.S. Army fly...</td>\n",
       "      <td>09/17/1908 17:18</td>\n",
       "    </tr>\n",
       "    <tr>\n",
       "      <th>1</th>\n",
       "      <td>07/12/1912</td>\n",
       "      <td>06:30</td>\n",
       "      <td>AtlantiCity, New Jersey</td>\n",
       "      <td>Military - U.S. Navy</td>\n",
       "      <td>Test flight</td>\n",
       "      <td>Dirigible</td>\n",
       "      <td>NaN</td>\n",
       "      <td>NaN</td>\n",
       "      <td>5.0</td>\n",
       "      <td>5.0</td>\n",
       "      <td>0.0</td>\n",
       "      <td>First U.S. dirigible Akron exploded just offsh...</td>\n",
       "      <td>07/12/1912 06:30</td>\n",
       "    </tr>\n",
       "    <tr>\n",
       "      <th>2</th>\n",
       "      <td>08/06/1913</td>\n",
       "      <td>00:00</td>\n",
       "      <td>Victoria, British Columbia, Canada</td>\n",
       "      <td>Private</td>\n",
       "      <td>NaN</td>\n",
       "      <td>Curtiss seaplane</td>\n",
       "      <td>NaN</td>\n",
       "      <td>NaN</td>\n",
       "      <td>1.0</td>\n",
       "      <td>1.0</td>\n",
       "      <td>0.0</td>\n",
       "      <td>The first fatal airplane accident in Canada oc...</td>\n",
       "      <td>08/06/1913 00:00</td>\n",
       "    </tr>\n",
       "    <tr>\n",
       "      <th>3</th>\n",
       "      <td>09/09/1913</td>\n",
       "      <td>18:30</td>\n",
       "      <td>Over the North Sea</td>\n",
       "      <td>Military - German Navy</td>\n",
       "      <td>NaN</td>\n",
       "      <td>Zeppelin L-1 (airship)</td>\n",
       "      <td>NaN</td>\n",
       "      <td>NaN</td>\n",
       "      <td>20.0</td>\n",
       "      <td>14.0</td>\n",
       "      <td>0.0</td>\n",
       "      <td>The airship flew into a thunderstorm and encou...</td>\n",
       "      <td>09/09/1913 18:30</td>\n",
       "    </tr>\n",
       "    <tr>\n",
       "      <th>4</th>\n",
       "      <td>10/17/1913</td>\n",
       "      <td>10:30</td>\n",
       "      <td>Near Johannisthal, Germany</td>\n",
       "      <td>Military - German Navy</td>\n",
       "      <td>NaN</td>\n",
       "      <td>Zeppelin L-2 (airship)</td>\n",
       "      <td>NaN</td>\n",
       "      <td>NaN</td>\n",
       "      <td>30.0</td>\n",
       "      <td>30.0</td>\n",
       "      <td>0.0</td>\n",
       "      <td>Hydrogen gas which was being vented was sucked...</td>\n",
       "      <td>10/17/1913 10:30</td>\n",
       "    </tr>\n",
       "  </tbody>\n",
       "</table>\n",
       "</div>"
      ],
      "text/plain": [
       "         Date   Time                            Location  \\\n",
       "0  09/17/1908  17:18                 Fort Myer, Virginia   \n",
       "1  07/12/1912  06:30             AtlantiCity, New Jersey   \n",
       "2  08/06/1913  00:00  Victoria, British Columbia, Canada   \n",
       "3  09/09/1913  18:30                  Over the North Sea   \n",
       "4  10/17/1913  10:30          Near Johannisthal, Germany   \n",
       "\n",
       "                 Operator          Route                    Type Registration  \\\n",
       "0    Military - U.S. Army  Demonstration        Wright Flyer III          NaN   \n",
       "1    Military - U.S. Navy    Test flight               Dirigible          NaN   \n",
       "2                 Private            NaN        Curtiss seaplane          NaN   \n",
       "3  Military - German Navy            NaN  Zeppelin L-1 (airship)          NaN   \n",
       "4  Military - German Navy            NaN  Zeppelin L-2 (airship)          NaN   \n",
       "\n",
       "  cn/In  Aboard  Fatalities  Ground  \\\n",
       "0     1     2.0         1.0     0.0   \n",
       "1   NaN     5.0         5.0     0.0   \n",
       "2   NaN     1.0         1.0     0.0   \n",
       "3   NaN    20.0        14.0     0.0   \n",
       "4   NaN    30.0        30.0     0.0   \n",
       "\n",
       "                                             Summary          DateTime  \n",
       "0  During a demonstration flight, a U.S. Army fly...  09/17/1908 17:18  \n",
       "1  First U.S. dirigible Akron exploded just offsh...  07/12/1912 06:30  \n",
       "2  The first fatal airplane accident in Canada oc...  08/06/1913 00:00  \n",
       "3  The airship flew into a thunderstorm and encou...  09/09/1913 18:30  \n",
       "4  Hydrogen gas which was being vented was sucked...  10/17/1913 10:30  "
      ]
     },
     "execution_count": 29,
     "metadata": {},
     "output_type": "execute_result"
    }
   ],
   "source": [
    "df.head()"
   ]
  },
  {
   "cell_type": "code",
   "execution_count": 30,
   "id": "4bb5481b",
   "metadata": {
    "execution": {
     "iopub.execute_input": "2022-07-23T07:46:43.798074Z",
     "iopub.status.busy": "2022-07-23T07:46:43.797097Z",
     "iopub.status.idle": "2022-07-23T07:46:44.494189Z",
     "shell.execute_reply": "2022-07-23T07:46:44.493338Z"
    },
    "papermill": {
     "duration": 0.715899,
     "end_time": "2022-07-23T07:46:44.496398",
     "exception": false,
     "start_time": "2022-07-23T07:46:43.780499",
     "status": "completed"
    },
    "tags": []
   },
   "outputs": [],
   "source": [
    "df['DateTime'] = pd.to_datetime(df['DateTime'])"
   ]
  },
  {
   "cell_type": "code",
   "execution_count": 31,
   "id": "da5aee11",
   "metadata": {
    "execution": {
     "iopub.execute_input": "2022-07-23T07:46:44.544725Z",
     "iopub.status.busy": "2022-07-23T07:46:44.544390Z",
     "iopub.status.idle": "2022-07-23T07:46:44.562928Z",
     "shell.execute_reply": "2022-07-23T07:46:44.562276Z"
    },
    "papermill": {
     "duration": 0.046834,
     "end_time": "2022-07-23T07:46:44.565213",
     "exception": false,
     "start_time": "2022-07-23T07:46:44.518379",
     "status": "completed"
    },
    "tags": []
   },
   "outputs": [
    {
     "data": {
      "text/html": [
       "<div>\n",
       "<style scoped>\n",
       "    .dataframe tbody tr th:only-of-type {\n",
       "        vertical-align: middle;\n",
       "    }\n",
       "\n",
       "    .dataframe tbody tr th {\n",
       "        vertical-align: top;\n",
       "    }\n",
       "\n",
       "    .dataframe thead th {\n",
       "        text-align: right;\n",
       "    }\n",
       "</style>\n",
       "<table border=\"1\" class=\"dataframe\">\n",
       "  <thead>\n",
       "    <tr style=\"text-align: right;\">\n",
       "      <th></th>\n",
       "      <th>Date</th>\n",
       "      <th>Time</th>\n",
       "      <th>Location</th>\n",
       "      <th>Operator</th>\n",
       "      <th>Route</th>\n",
       "      <th>Type</th>\n",
       "      <th>Registration</th>\n",
       "      <th>cn/In</th>\n",
       "      <th>Aboard</th>\n",
       "      <th>Fatalities</th>\n",
       "      <th>Ground</th>\n",
       "      <th>Summary</th>\n",
       "      <th>DateTime</th>\n",
       "    </tr>\n",
       "  </thead>\n",
       "  <tbody>\n",
       "    <tr>\n",
       "      <th>0</th>\n",
       "      <td>09/17/1908</td>\n",
       "      <td>17:18</td>\n",
       "      <td>Fort Myer, Virginia</td>\n",
       "      <td>Military - U.S. Army</td>\n",
       "      <td>Demonstration</td>\n",
       "      <td>Wright Flyer III</td>\n",
       "      <td>NaN</td>\n",
       "      <td>1</td>\n",
       "      <td>2.0</td>\n",
       "      <td>1.0</td>\n",
       "      <td>0.0</td>\n",
       "      <td>During a demonstration flight, a U.S. Army fly...</td>\n",
       "      <td>1908-09-17 17:18:00</td>\n",
       "    </tr>\n",
       "    <tr>\n",
       "      <th>1</th>\n",
       "      <td>07/12/1912</td>\n",
       "      <td>06:30</td>\n",
       "      <td>AtlantiCity, New Jersey</td>\n",
       "      <td>Military - U.S. Navy</td>\n",
       "      <td>Test flight</td>\n",
       "      <td>Dirigible</td>\n",
       "      <td>NaN</td>\n",
       "      <td>NaN</td>\n",
       "      <td>5.0</td>\n",
       "      <td>5.0</td>\n",
       "      <td>0.0</td>\n",
       "      <td>First U.S. dirigible Akron exploded just offsh...</td>\n",
       "      <td>1912-07-12 06:30:00</td>\n",
       "    </tr>\n",
       "    <tr>\n",
       "      <th>2</th>\n",
       "      <td>08/06/1913</td>\n",
       "      <td>00:00</td>\n",
       "      <td>Victoria, British Columbia, Canada</td>\n",
       "      <td>Private</td>\n",
       "      <td>NaN</td>\n",
       "      <td>Curtiss seaplane</td>\n",
       "      <td>NaN</td>\n",
       "      <td>NaN</td>\n",
       "      <td>1.0</td>\n",
       "      <td>1.0</td>\n",
       "      <td>0.0</td>\n",
       "      <td>The first fatal airplane accident in Canada oc...</td>\n",
       "      <td>1913-08-06 00:00:00</td>\n",
       "    </tr>\n",
       "    <tr>\n",
       "      <th>3</th>\n",
       "      <td>09/09/1913</td>\n",
       "      <td>18:30</td>\n",
       "      <td>Over the North Sea</td>\n",
       "      <td>Military - German Navy</td>\n",
       "      <td>NaN</td>\n",
       "      <td>Zeppelin L-1 (airship)</td>\n",
       "      <td>NaN</td>\n",
       "      <td>NaN</td>\n",
       "      <td>20.0</td>\n",
       "      <td>14.0</td>\n",
       "      <td>0.0</td>\n",
       "      <td>The airship flew into a thunderstorm and encou...</td>\n",
       "      <td>1913-09-09 18:30:00</td>\n",
       "    </tr>\n",
       "    <tr>\n",
       "      <th>4</th>\n",
       "      <td>10/17/1913</td>\n",
       "      <td>10:30</td>\n",
       "      <td>Near Johannisthal, Germany</td>\n",
       "      <td>Military - German Navy</td>\n",
       "      <td>NaN</td>\n",
       "      <td>Zeppelin L-2 (airship)</td>\n",
       "      <td>NaN</td>\n",
       "      <td>NaN</td>\n",
       "      <td>30.0</td>\n",
       "      <td>30.0</td>\n",
       "      <td>0.0</td>\n",
       "      <td>Hydrogen gas which was being vented was sucked...</td>\n",
       "      <td>1913-10-17 10:30:00</td>\n",
       "    </tr>\n",
       "  </tbody>\n",
       "</table>\n",
       "</div>"
      ],
      "text/plain": [
       "         Date   Time                            Location  \\\n",
       "0  09/17/1908  17:18                 Fort Myer, Virginia   \n",
       "1  07/12/1912  06:30             AtlantiCity, New Jersey   \n",
       "2  08/06/1913  00:00  Victoria, British Columbia, Canada   \n",
       "3  09/09/1913  18:30                  Over the North Sea   \n",
       "4  10/17/1913  10:30          Near Johannisthal, Germany   \n",
       "\n",
       "                 Operator          Route                    Type Registration  \\\n",
       "0    Military - U.S. Army  Demonstration        Wright Flyer III          NaN   \n",
       "1    Military - U.S. Navy    Test flight               Dirigible          NaN   \n",
       "2                 Private            NaN        Curtiss seaplane          NaN   \n",
       "3  Military - German Navy            NaN  Zeppelin L-1 (airship)          NaN   \n",
       "4  Military - German Navy            NaN  Zeppelin L-2 (airship)          NaN   \n",
       "\n",
       "  cn/In  Aboard  Fatalities  Ground  \\\n",
       "0     1     2.0         1.0     0.0   \n",
       "1   NaN     5.0         5.0     0.0   \n",
       "2   NaN     1.0         1.0     0.0   \n",
       "3   NaN    20.0        14.0     0.0   \n",
       "4   NaN    30.0        30.0     0.0   \n",
       "\n",
       "                                             Summary            DateTime  \n",
       "0  During a demonstration flight, a U.S. Army fly... 1908-09-17 17:18:00  \n",
       "1  First U.S. dirigible Akron exploded just offsh... 1912-07-12 06:30:00  \n",
       "2  The first fatal airplane accident in Canada oc... 1913-08-06 00:00:00  \n",
       "3  The airship flew into a thunderstorm and encou... 1913-09-09 18:30:00  \n",
       "4  Hydrogen gas which was being vented was sucked... 1913-10-17 10:30:00  "
      ]
     },
     "execution_count": 31,
     "metadata": {},
     "output_type": "execute_result"
    }
   ],
   "source": [
    "df.head()"
   ]
  },
  {
   "cell_type": "code",
   "execution_count": 32,
   "id": "b29cb132",
   "metadata": {
    "execution": {
     "iopub.execute_input": "2022-07-23T07:46:44.617660Z",
     "iopub.status.busy": "2022-07-23T07:46:44.616828Z",
     "iopub.status.idle": "2022-07-23T07:46:44.626915Z",
     "shell.execute_reply": "2022-07-23T07:46:44.626175Z"
    },
    "papermill": {
     "duration": 0.037354,
     "end_time": "2022-07-23T07:46:44.628429",
     "exception": false,
     "start_time": "2022-07-23T07:46:44.591075",
     "status": "completed"
    },
    "tags": []
   },
   "outputs": [
    {
     "data": {
      "text/plain": [
       "178         6\n",
       "229         5\n",
       "19          5\n",
       "213         5\n",
       "125         5\n",
       "           ..\n",
       "1114        1\n",
       "19410       1\n",
       "42929       1\n",
       "45794/52    1\n",
       "424         1\n",
       "Name: cn/In, Length: 3707, dtype: int64"
      ]
     },
     "execution_count": 32,
     "metadata": {},
     "output_type": "execute_result"
    }
   ],
   "source": [
    "df['cn/In'].value_counts()"
   ]
  },
  {
   "cell_type": "code",
   "execution_count": 33,
   "id": "d73afa2b",
   "metadata": {
    "execution": {
     "iopub.execute_input": "2022-07-23T07:46:44.661109Z",
     "iopub.status.busy": "2022-07-23T07:46:44.660542Z",
     "iopub.status.idle": "2022-07-23T07:46:44.678277Z",
     "shell.execute_reply": "2022-07-23T07:46:44.677461Z"
    },
    "papermill": {
     "duration": 0.035762,
     "end_time": "2022-07-23T07:46:44.679825",
     "exception": false,
     "start_time": "2022-07-23T07:46:44.644063",
     "status": "completed"
    },
    "tags": []
   },
   "outputs": [
    {
     "data": {
      "text/html": [
       "<div>\n",
       "<style scoped>\n",
       "    .dataframe tbody tr th:only-of-type {\n",
       "        vertical-align: middle;\n",
       "    }\n",
       "\n",
       "    .dataframe tbody tr th {\n",
       "        vertical-align: top;\n",
       "    }\n",
       "\n",
       "    .dataframe thead th {\n",
       "        text-align: right;\n",
       "    }\n",
       "</style>\n",
       "<table border=\"1\" class=\"dataframe\">\n",
       "  <thead>\n",
       "    <tr style=\"text-align: right;\">\n",
       "      <th></th>\n",
       "      <th>Date</th>\n",
       "      <th>Time</th>\n",
       "      <th>Location</th>\n",
       "      <th>Operator</th>\n",
       "      <th>Route</th>\n",
       "      <th>Type</th>\n",
       "      <th>Registration</th>\n",
       "      <th>cn/In</th>\n",
       "      <th>Aboard</th>\n",
       "      <th>Fatalities</th>\n",
       "      <th>Ground</th>\n",
       "      <th>Summary</th>\n",
       "      <th>DateTime</th>\n",
       "    </tr>\n",
       "  </thead>\n",
       "  <tbody>\n",
       "    <tr>\n",
       "      <th>0</th>\n",
       "      <td>09/17/1908</td>\n",
       "      <td>17:18</td>\n",
       "      <td>Fort Myer, Virginia</td>\n",
       "      <td>Military - U.S. Army</td>\n",
       "      <td>Demonstration</td>\n",
       "      <td>Wright Flyer III</td>\n",
       "      <td>NaN</td>\n",
       "      <td>1</td>\n",
       "      <td>2.0</td>\n",
       "      <td>1.0</td>\n",
       "      <td>0.0</td>\n",
       "      <td>During a demonstration flight, a U.S. Army fly...</td>\n",
       "      <td>1908-09-17 17:18:00</td>\n",
       "    </tr>\n",
       "    <tr>\n",
       "      <th>1</th>\n",
       "      <td>07/12/1912</td>\n",
       "      <td>06:30</td>\n",
       "      <td>AtlantiCity, New Jersey</td>\n",
       "      <td>Military - U.S. Navy</td>\n",
       "      <td>Test flight</td>\n",
       "      <td>Dirigible</td>\n",
       "      <td>NaN</td>\n",
       "      <td>NaN</td>\n",
       "      <td>5.0</td>\n",
       "      <td>5.0</td>\n",
       "      <td>0.0</td>\n",
       "      <td>First U.S. dirigible Akron exploded just offsh...</td>\n",
       "      <td>1912-07-12 06:30:00</td>\n",
       "    </tr>\n",
       "    <tr>\n",
       "      <th>2</th>\n",
       "      <td>08/06/1913</td>\n",
       "      <td>00:00</td>\n",
       "      <td>Victoria, British Columbia, Canada</td>\n",
       "      <td>Private</td>\n",
       "      <td>NaN</td>\n",
       "      <td>Curtiss seaplane</td>\n",
       "      <td>NaN</td>\n",
       "      <td>NaN</td>\n",
       "      <td>1.0</td>\n",
       "      <td>1.0</td>\n",
       "      <td>0.0</td>\n",
       "      <td>The first fatal airplane accident in Canada oc...</td>\n",
       "      <td>1913-08-06 00:00:00</td>\n",
       "    </tr>\n",
       "    <tr>\n",
       "      <th>3</th>\n",
       "      <td>09/09/1913</td>\n",
       "      <td>18:30</td>\n",
       "      <td>Over the North Sea</td>\n",
       "      <td>Military - German Navy</td>\n",
       "      <td>NaN</td>\n",
       "      <td>Zeppelin L-1 (airship)</td>\n",
       "      <td>NaN</td>\n",
       "      <td>NaN</td>\n",
       "      <td>20.0</td>\n",
       "      <td>14.0</td>\n",
       "      <td>0.0</td>\n",
       "      <td>The airship flew into a thunderstorm and encou...</td>\n",
       "      <td>1913-09-09 18:30:00</td>\n",
       "    </tr>\n",
       "    <tr>\n",
       "      <th>4</th>\n",
       "      <td>10/17/1913</td>\n",
       "      <td>10:30</td>\n",
       "      <td>Near Johannisthal, Germany</td>\n",
       "      <td>Military - German Navy</td>\n",
       "      <td>NaN</td>\n",
       "      <td>Zeppelin L-2 (airship)</td>\n",
       "      <td>NaN</td>\n",
       "      <td>NaN</td>\n",
       "      <td>30.0</td>\n",
       "      <td>30.0</td>\n",
       "      <td>0.0</td>\n",
       "      <td>Hydrogen gas which was being vented was sucked...</td>\n",
       "      <td>1913-10-17 10:30:00</td>\n",
       "    </tr>\n",
       "  </tbody>\n",
       "</table>\n",
       "</div>"
      ],
      "text/plain": [
       "         Date   Time                            Location  \\\n",
       "0  09/17/1908  17:18                 Fort Myer, Virginia   \n",
       "1  07/12/1912  06:30             AtlantiCity, New Jersey   \n",
       "2  08/06/1913  00:00  Victoria, British Columbia, Canada   \n",
       "3  09/09/1913  18:30                  Over the North Sea   \n",
       "4  10/17/1913  10:30          Near Johannisthal, Germany   \n",
       "\n",
       "                 Operator          Route                    Type Registration  \\\n",
       "0    Military - U.S. Army  Demonstration        Wright Flyer III          NaN   \n",
       "1    Military - U.S. Navy    Test flight               Dirigible          NaN   \n",
       "2                 Private            NaN        Curtiss seaplane          NaN   \n",
       "3  Military - German Navy            NaN  Zeppelin L-1 (airship)          NaN   \n",
       "4  Military - German Navy            NaN  Zeppelin L-2 (airship)          NaN   \n",
       "\n",
       "  cn/In  Aboard  Fatalities  Ground  \\\n",
       "0     1     2.0         1.0     0.0   \n",
       "1   NaN     5.0         5.0     0.0   \n",
       "2   NaN     1.0         1.0     0.0   \n",
       "3   NaN    20.0        14.0     0.0   \n",
       "4   NaN    30.0        30.0     0.0   \n",
       "\n",
       "                                             Summary            DateTime  \n",
       "0  During a demonstration flight, a U.S. Army fly... 1908-09-17 17:18:00  \n",
       "1  First U.S. dirigible Akron exploded just offsh... 1912-07-12 06:30:00  \n",
       "2  The first fatal airplane accident in Canada oc... 1913-08-06 00:00:00  \n",
       "3  The airship flew into a thunderstorm and encou... 1913-09-09 18:30:00  \n",
       "4  Hydrogen gas which was being vented was sucked... 1913-10-17 10:30:00  "
      ]
     },
     "execution_count": 33,
     "metadata": {},
     "output_type": "execute_result"
    }
   ],
   "source": [
    "df.head()"
   ]
  },
  {
   "cell_type": "markdown",
   "id": "f9f0b575",
   "metadata": {
    "papermill": {
     "duration": 0.015662,
     "end_time": "2022-07-23T07:46:44.711443",
     "exception": false,
     "start_time": "2022-07-23T07:46:44.695781",
     "status": "completed"
    },
    "tags": []
   },
   "source": [
    "# Years and fatalities"
   ]
  },
  {
   "cell_type": "code",
   "execution_count": 34,
   "id": "e7d70902",
   "metadata": {
    "execution": {
     "iopub.execute_input": "2022-07-23T07:46:44.744494Z",
     "iopub.status.busy": "2022-07-23T07:46:44.743845Z",
     "iopub.status.idle": "2022-07-23T07:46:44.976251Z",
     "shell.execute_reply": "2022-07-23T07:46:44.975344Z"
    },
    "papermill": {
     "duration": 0.251548,
     "end_time": "2022-07-23T07:46:44.978566",
     "exception": false,
     "start_time": "2022-07-23T07:46:44.727018",
     "status": "completed"
    },
    "tags": []
   },
   "outputs": [
    {
     "data": {
      "image/png": "[encoded data removed]",
      "text/plain": [
       "<Figure size 1800x800 with 1 Axes>"
      ]
     },
     "metadata": {},
     "output_type": "display_data"
    }
   ],
   "source": [
    "plt.figure(figsize= (18, 8))\n",
    "years = df['DateTime'].dt.year\n",
    "_= plt.plot(df['Fatalities'], years, 'o')\n",
    "_= plt.xlabel('Fatalities')\n",
    "_= plt.ylabel('Years')\n",
    "plt.show()"
   ]
  },
  {
   "cell_type": "markdown",
   "id": "893f42f1",
   "metadata": {
    "papermill": {
     "duration": 0.025629,
     "end_time": "2022-07-23T07:46:45.030778",
     "exception": false,
     "start_time": "2022-07-23T07:46:45.005149",
     "status": "completed"
    },
    "tags": []
   },
   "source": [
    "# Accidents per years"
   ]
  },
  {
   "cell_type": "code",
   "execution_count": 35,
   "id": "8dd017f4",
   "metadata": {
    "execution": {
     "iopub.execute_input": "2022-07-23T07:46:45.083918Z",
     "iopub.status.busy": "2022-07-23T07:46:45.083521Z",
     "iopub.status.idle": "2022-07-23T07:46:45.302156Z",
     "shell.execute_reply": "2022-07-23T07:46:45.301469Z"
    },
    "papermill": {
     "duration": 0.247061,
     "end_time": "2022-07-23T07:46:45.303754",
     "exception": false,
     "start_time": "2022-07-23T07:46:45.056693",
     "status": "completed"
    },
    "tags": []
   },
   "outputs": [
    {
     "data": {
      "image/png": "[encoded data removed]",
      "text/plain": [
       "<Figure size 1800x800 with 1 Axes>"
      ]
     },
     "metadata": {},
     "output_type": "display_data"
    }
   ],
   "source": [
    "year_count = df.groupby(df.DateTime.dt.year)[['Date']].count()\n",
    "\n",
    "plt.figure(figsize= (18, 8))\n",
    "plt.plot(year_count.index, year_count['Date'], marker= '.')\n",
    "\n",
    "plt.xlabel('Years')\n",
    "plt.ylabel('Total Accidents')\n",
    "plt.show()"
   ]
  },
  {
   "cell_type": "markdown",
   "id": "aa371d85",
   "metadata": {
    "papermill": {
     "duration": 0.016476,
     "end_time": "2022-07-23T07:46:45.337240",
     "exception": false,
     "start_time": "2022-07-23T07:46:45.320764",
     "status": "completed"
    },
    "tags": []
   },
   "source": [
    "# survivors and fatalities"
   ]
  },
  {
   "cell_type": "code",
   "execution_count": 36,
   "id": "5f1c96b3",
   "metadata": {
    "execution": {
     "iopub.execute_input": "2022-07-23T07:46:45.372488Z",
     "iopub.status.busy": "2022-07-23T07:46:45.371882Z",
     "iopub.status.idle": "2022-07-23T07:46:45.451582Z",
     "shell.execute_reply": "2022-07-23T07:46:45.450568Z"
    },
    "papermill": {
     "duration": 0.099305,
     "end_time": "2022-07-23T07:46:45.453423",
     "exception": false,
     "start_time": "2022-07-23T07:46:45.354118",
     "status": "completed"
    },
    "tags": []
   },
   "outputs": [
    {
     "data": {
      "image/png": "[encoded data removed]",
      "text/plain": [
       "<Figure size 1200x1000 with 1 Axes>"
      ]
     },
     "metadata": {},
     "output_type": "display_data"
    }
   ],
   "source": [
    "sns.set_palette('pastel')\n",
    "plt.figure(figsize=(12,10))\n",
    "Aboard = df.Aboard.sum()\n",
    "Fatalities = df.Fatalities.sum()\n",
    "Survivors = Aboard - Fatalities\n",
    "\n",
    "y = np.array([Fatalities, Survivors])\n",
    "mylabels = [\"Fatalities\", \"Survivors\"]\n",
    "\n",
    "plt.pie(y, labels = mylabels)\n",
    "plt.show()"
   ]
  },
  {
   "cell_type": "code",
   "execution_count": 37,
   "id": "ef6e4fa5",
   "metadata": {
    "execution": {
     "iopub.execute_input": "2022-07-23T07:46:45.503175Z",
     "iopub.status.busy": "2022-07-23T07:46:45.502834Z",
     "iopub.status.idle": "2022-07-23T07:46:45.521469Z",
     "shell.execute_reply": "2022-07-23T07:46:45.520801Z"
    },
    "papermill": {
     "duration": 0.04566,
     "end_time": "2022-07-23T07:46:45.523169",
     "exception": false,
     "start_time": "2022-07-23T07:46:45.477509",
     "status": "completed"
    },
    "tags": []
   },
   "outputs": [
    {
     "data": {
      "text/html": [
       "<div>\n",
       "<style scoped>\n",
       "    .dataframe tbody tr th:only-of-type {\n",
       "        vertical-align: middle;\n",
       "    }\n",
       "\n",
       "    .dataframe tbody tr th {\n",
       "        vertical-align: top;\n",
       "    }\n",
       "\n",
       "    .dataframe thead th {\n",
       "        text-align: right;\n",
       "    }\n",
       "</style>\n",
       "<table border=\"1\" class=\"dataframe\">\n",
       "  <thead>\n",
       "    <tr style=\"text-align: right;\">\n",
       "      <th></th>\n",
       "      <th>Date</th>\n",
       "      <th>Time</th>\n",
       "      <th>Location</th>\n",
       "      <th>Operator</th>\n",
       "      <th>Route</th>\n",
       "      <th>Type</th>\n",
       "      <th>Registration</th>\n",
       "      <th>cn/In</th>\n",
       "      <th>Aboard</th>\n",
       "      <th>Fatalities</th>\n",
       "      <th>Ground</th>\n",
       "      <th>Summary</th>\n",
       "      <th>DateTime</th>\n",
       "    </tr>\n",
       "  </thead>\n",
       "  <tbody>\n",
       "    <tr>\n",
       "      <th>0</th>\n",
       "      <td>09/17/1908</td>\n",
       "      <td>17:18</td>\n",
       "      <td>Fort Myer, Virginia</td>\n",
       "      <td>Military - U.S. Army</td>\n",
       "      <td>Demonstration</td>\n",
       "      <td>Wright Flyer III</td>\n",
       "      <td>NaN</td>\n",
       "      <td>1</td>\n",
       "      <td>2.0</td>\n",
       "      <td>1.0</td>\n",
       "      <td>0.0</td>\n",
       "      <td>During a demonstration flight, a U.S. Army fly...</td>\n",
       "      <td>1908-09-17 17:18:00</td>\n",
       "    </tr>\n",
       "    <tr>\n",
       "      <th>1</th>\n",
       "      <td>07/12/1912</td>\n",
       "      <td>06:30</td>\n",
       "      <td>AtlantiCity, New Jersey</td>\n",
       "      <td>Military - U.S. Navy</td>\n",
       "      <td>Test flight</td>\n",
       "      <td>Dirigible</td>\n",
       "      <td>NaN</td>\n",
       "      <td>NaN</td>\n",
       "      <td>5.0</td>\n",
       "      <td>5.0</td>\n",
       "      <td>0.0</td>\n",
       "      <td>First U.S. dirigible Akron exploded just offsh...</td>\n",
       "      <td>1912-07-12 06:30:00</td>\n",
       "    </tr>\n",
       "    <tr>\n",
       "      <th>2</th>\n",
       "      <td>08/06/1913</td>\n",
       "      <td>00:00</td>\n",
       "      <td>Victoria, British Columbia, Canada</td>\n",
       "      <td>Private</td>\n",
       "      <td>NaN</td>\n",
       "      <td>Curtiss seaplane</td>\n",
       "      <td>NaN</td>\n",
       "      <td>NaN</td>\n",
       "      <td>1.0</td>\n",
       "      <td>1.0</td>\n",
       "      <td>0.0</td>\n",
       "      <td>The first fatal airplane accident in Canada oc...</td>\n",
       "      <td>1913-08-06 00:00:00</td>\n",
       "    </tr>\n",
       "    <tr>\n",
       "      <th>3</th>\n",
       "      <td>09/09/1913</td>\n",
       "      <td>18:30</td>\n",
       "      <td>Over the North Sea</td>\n",
       "      <td>Military - German Navy</td>\n",
       "      <td>NaN</td>\n",
       "      <td>Zeppelin L-1 (airship)</td>\n",
       "      <td>NaN</td>\n",
       "      <td>NaN</td>\n",
       "      <td>20.0</td>\n",
       "      <td>14.0</td>\n",
       "      <td>0.0</td>\n",
       "      <td>The airship flew into a thunderstorm and encou...</td>\n",
       "      <td>1913-09-09 18:30:00</td>\n",
       "    </tr>\n",
       "    <tr>\n",
       "      <th>4</th>\n",
       "      <td>10/17/1913</td>\n",
       "      <td>10:30</td>\n",
       "      <td>Near Johannisthal, Germany</td>\n",
       "      <td>Military - German Navy</td>\n",
       "      <td>NaN</td>\n",
       "      <td>Zeppelin L-2 (airship)</td>\n",
       "      <td>NaN</td>\n",
       "      <td>NaN</td>\n",
       "      <td>30.0</td>\n",
       "      <td>30.0</td>\n",
       "      <td>0.0</td>\n",
       "      <td>Hydrogen gas which was being vented was sucked...</td>\n",
       "      <td>1913-10-17 10:30:00</td>\n",
       "    </tr>\n",
       "  </tbody>\n",
       "</table>\n",
       "</div>"
      ],
      "text/plain": [
       "         Date   Time                            Location  \\\n",
       "0  09/17/1908  17:18                 Fort Myer, Virginia   \n",
       "1  07/12/1912  06:30             AtlantiCity, New Jersey   \n",
       "2  08/06/1913  00:00  Victoria, British Columbia, Canada   \n",
       "3  09/09/1913  18:30                  Over the North Sea   \n",
       "4  10/17/1913  10:30          Near Johannisthal, Germany   \n",
       "\n",
       "                 Operator          Route                    Type Registration  \\\n",
       "0    Military - U.S. Army  Demonstration        Wright Flyer III          NaN   \n",
       "1    Military - U.S. Navy    Test flight               Dirigible          NaN   \n",
       "2                 Private            NaN        Curtiss seaplane          NaN   \n",
       "3  Military - German Navy            NaN  Zeppelin L-1 (airship)          NaN   \n",
       "4  Military - German Navy            NaN  Zeppelin L-2 (airship)          NaN   \n",
       "\n",
       "  cn/In  Aboard  Fatalities  Ground  \\\n",
       "0     1     2.0         1.0     0.0   \n",
       "1   NaN     5.0         5.0     0.0   \n",
       "2   NaN     1.0         1.0     0.0   \n",
       "3   NaN    20.0        14.0     0.0   \n",
       "4   NaN    30.0        30.0     0.0   \n",
       "\n",
       "                                             Summary            DateTime  \n",
       "0  During a demonstration flight, a U.S. Army fly... 1908-09-17 17:18:00  \n",
       "1  First U.S. dirigible Akron exploded just offsh... 1912-07-12 06:30:00  \n",
       "2  The first fatal airplane accident in Canada oc... 1913-08-06 00:00:00  \n",
       "3  The airship flew into a thunderstorm and encou... 1913-09-09 18:30:00  \n",
       "4  Hydrogen gas which was being vented was sucked... 1913-10-17 10:30:00  "
      ]
     },
     "execution_count": 37,
     "metadata": {},
     "output_type": "execute_result"
    }
   ],
   "source": [
    "df.head()"
   ]
  },
  {
   "cell_type": "code",
   "execution_count": 38,
   "id": "7be108c0",
   "metadata": {
    "execution": {
     "iopub.execute_input": "2022-07-23T07:46:45.559884Z",
     "iopub.status.busy": "2022-07-23T07:46:45.559540Z",
     "iopub.status.idle": "2022-07-23T07:46:45.641231Z",
     "shell.execute_reply": "2022-07-23T07:46:45.640195Z"
    },
    "papermill": {
     "duration": 0.102364,
     "end_time": "2022-07-23T07:46:45.643383",
     "exception": false,
     "start_time": "2022-07-23T07:46:45.541019",
     "status": "completed"
    },
    "tags": []
   },
   "outputs": [],
   "source": [
    "for columnn in df.columns:                              \n",
    "    if df[columnn].dtype == 'object':          \n",
    "        try:                                        \n",
    "            df[columnn] = pd.to_datetime(df[columnn])\n",
    "        except ValueError:\n",
    "            pass"
   ]
  },
  {
   "cell_type": "code",
   "execution_count": 39,
   "id": "82f15128",
   "metadata": {
    "execution": {
     "iopub.execute_input": "2022-07-23T07:46:45.680052Z",
     "iopub.status.busy": "2022-07-23T07:46:45.679681Z",
     "iopub.status.idle": "2022-07-23T07:46:45.685046Z",
     "shell.execute_reply": "2022-07-23T07:46:45.684303Z"
    },
    "papermill": {
     "duration": 0.025545,
     "end_time": "2022-07-23T07:46:45.686533",
     "exception": false,
     "start_time": "2022-07-23T07:46:45.660988",
     "status": "completed"
    },
    "tags": []
   },
   "outputs": [],
   "source": [
    "df['Year'] = pd.DatetimeIndex(df['Date']).year"
   ]
  },
  {
   "cell_type": "code",
   "execution_count": 40,
   "id": "69fa45fc",
   "metadata": {
    "execution": {
     "iopub.execute_input": "2022-07-23T07:46:45.724688Z",
     "iopub.status.busy": "2022-07-23T07:46:45.723046Z",
     "iopub.status.idle": "2022-07-23T07:46:45.730175Z",
     "shell.execute_reply": "2022-07-23T07:46:45.729423Z"
    },
    "papermill": {
     "duration": 0.027689,
     "end_time": "2022-07-23T07:46:45.731960",
     "exception": false,
     "start_time": "2022-07-23T07:46:45.704271",
     "status": "completed"
    },
    "tags": []
   },
   "outputs": [],
   "source": [
    "df.drop('DateTime',axis=1,inplace=True)\n",
    "         "
   ]
  },
  {
   "cell_type": "code",
   "execution_count": 41,
   "id": "5599a336",
   "metadata": {
    "execution": {
     "iopub.execute_input": "2022-07-23T07:46:45.769113Z",
     "iopub.status.busy": "2022-07-23T07:46:45.768509Z",
     "iopub.status.idle": "2022-07-23T07:46:45.786463Z",
     "shell.execute_reply": "2022-07-23T07:46:45.785548Z"
    },
    "papermill": {
     "duration": 0.038187,
     "end_time": "2022-07-23T07:46:45.787989",
     "exception": false,
     "start_time": "2022-07-23T07:46:45.749802",
     "status": "completed"
    },
    "tags": []
   },
   "outputs": [
    {
     "data": {
      "text/html": [
       "<div>\n",
       "<style scoped>\n",
       "    .dataframe tbody tr th:only-of-type {\n",
       "        vertical-align: middle;\n",
       "    }\n",
       "\n",
       "    .dataframe tbody tr th {\n",
       "        vertical-align: top;\n",
       "    }\n",
       "\n",
       "    .dataframe thead th {\n",
       "        text-align: right;\n",
       "    }\n",
       "</style>\n",
       "<table border=\"1\" class=\"dataframe\">\n",
       "  <thead>\n",
       "    <tr style=\"text-align: right;\">\n",
       "      <th></th>\n",
       "      <th>Date</th>\n",
       "      <th>Time</th>\n",
       "      <th>Location</th>\n",
       "      <th>Operator</th>\n",
       "      <th>Route</th>\n",
       "      <th>Type</th>\n",
       "      <th>Registration</th>\n",
       "      <th>cn/In</th>\n",
       "      <th>Aboard</th>\n",
       "      <th>Fatalities</th>\n",
       "      <th>Ground</th>\n",
       "      <th>Summary</th>\n",
       "      <th>Year</th>\n",
       "    </tr>\n",
       "  </thead>\n",
       "  <tbody>\n",
       "    <tr>\n",
       "      <th>0</th>\n",
       "      <td>1908-09-17</td>\n",
       "      <td>2023-02-27 17:18:00</td>\n",
       "      <td>Fort Myer, Virginia</td>\n",
       "      <td>Military - U.S. Army</td>\n",
       "      <td>Demonstration</td>\n",
       "      <td>Wright Flyer III</td>\n",
       "      <td>NaN</td>\n",
       "      <td>1</td>\n",
       "      <td>2.0</td>\n",
       "      <td>1.0</td>\n",
       "      <td>0.0</td>\n",
       "      <td>During a demonstration flight, a U.S. Army fly...</td>\n",
       "      <td>1908</td>\n",
       "    </tr>\n",
       "    <tr>\n",
       "      <th>1</th>\n",
       "      <td>1912-07-12</td>\n",
       "      <td>2023-02-27 06:30:00</td>\n",
       "      <td>AtlantiCity, New Jersey</td>\n",
       "      <td>Military - U.S. Navy</td>\n",
       "      <td>Test flight</td>\n",
       "      <td>Dirigible</td>\n",
       "      <td>NaN</td>\n",
       "      <td>NaN</td>\n",
       "      <td>5.0</td>\n",
       "      <td>5.0</td>\n",
       "      <td>0.0</td>\n",
       "      <td>First U.S. dirigible Akron exploded just offsh...</td>\n",
       "      <td>1912</td>\n",
       "    </tr>\n",
       "    <tr>\n",
       "      <th>2</th>\n",
       "      <td>1913-08-06</td>\n",
       "      <td>2023-02-27 00:00:00</td>\n",
       "      <td>Victoria, British Columbia, Canada</td>\n",
       "      <td>Private</td>\n",
       "      <td>NaN</td>\n",
       "      <td>Curtiss seaplane</td>\n",
       "      <td>NaN</td>\n",
       "      <td>NaN</td>\n",
       "      <td>1.0</td>\n",
       "      <td>1.0</td>\n",
       "      <td>0.0</td>\n",
       "      <td>The first fatal airplane accident in Canada oc...</td>\n",
       "      <td>1913</td>\n",
       "    </tr>\n",
       "    <tr>\n",
       "      <th>3</th>\n",
       "      <td>1913-09-09</td>\n",
       "      <td>2023-02-27 18:30:00</td>\n",
       "      <td>Over the North Sea</td>\n",
       "      <td>Military - German Navy</td>\n",
       "      <td>NaN</td>\n",
       "      <td>Zeppelin L-1 (airship)</td>\n",
       "      <td>NaN</td>\n",
       "      <td>NaN</td>\n",
       "      <td>20.0</td>\n",
       "      <td>14.0</td>\n",
       "      <td>0.0</td>\n",
       "      <td>The airship flew into a thunderstorm and encou...</td>\n",
       "      <td>1913</td>\n",
       "    </tr>\n",
       "    <tr>\n",
       "      <th>4</th>\n",
       "      <td>1913-10-17</td>\n",
       "      <td>2023-02-27 10:30:00</td>\n",
       "      <td>Near Johannisthal, Germany</td>\n",
       "      <td>Military - German Navy</td>\n",
       "      <td>NaN</td>\n",
       "      <td>Zeppelin L-2 (airship)</td>\n",
       "      <td>NaN</td>\n",
       "      <td>NaN</td>\n",
       "      <td>30.0</td>\n",
       "      <td>30.0</td>\n",
       "      <td>0.0</td>\n",
       "      <td>Hydrogen gas which was being vented was sucked...</td>\n",
       "      <td>1913</td>\n",
       "    </tr>\n",
       "  </tbody>\n",
       "</table>\n",
       "</div>"
      ],
      "text/plain": [
       "        Date                Time                            Location  \\\n",
       "0 1908-09-17 2023-02-27 17:18:00                 Fort Myer, Virginia   \n",
       "1 1912-07-12 2023-02-27 06:30:00             AtlantiCity, New Jersey   \n",
       "2 1913-08-06 2023-02-27 00:00:00  Victoria, British Columbia, Canada   \n",
       "3 1913-09-09 2023-02-27 18:30:00                  Over the North Sea   \n",
       "4 1913-10-17 2023-02-27 10:30:00          Near Johannisthal, Germany   \n",
       "\n",
       "                 Operator          Route                    Type Registration  \\\n",
       "0    Military - U.S. Army  Demonstration        Wright Flyer III          NaN   \n",
       "1    Military - U.S. Navy    Test flight               Dirigible          NaN   \n",
       "2                 Private            NaN        Curtiss seaplane          NaN   \n",
       "3  Military - German Navy            NaN  Zeppelin L-1 (airship)          NaN   \n",
       "4  Military - German Navy            NaN  Zeppelin L-2 (airship)          NaN   \n",
       "\n",
       "  cn/In  Aboard  Fatalities  Ground  \\\n",
       "0     1     2.0         1.0     0.0   \n",
       "1   NaN     5.0         5.0     0.0   \n",
       "2   NaN     1.0         1.0     0.0   \n",
       "3   NaN    20.0        14.0     0.0   \n",
       "4   NaN    30.0        30.0     0.0   \n",
       "\n",
       "                                             Summary  Year  \n",
       "0  During a demonstration flight, a U.S. Army fly...  1908  \n",
       "1  First U.S. dirigible Akron exploded just offsh...  1912  \n",
       "2  The first fatal airplane accident in Canada oc...  1913  \n",
       "3  The airship flew into a thunderstorm and encou...  1913  \n",
       "4  Hydrogen gas which was being vented was sucked...  1913  "
      ]
     },
     "execution_count": 41,
     "metadata": {},
     "output_type": "execute_result"
    }
   ],
   "source": [
    "df.head()"
   ]
  },
  {
   "cell_type": "markdown",
   "id": "99d0b220",
   "metadata": {
    "papermill": {
     "duration": 0.017108,
     "end_time": "2022-07-23T07:46:45.822741",
     "exception": false,
     "start_time": "2022-07-23T07:46:45.805633",
     "status": "completed"
    },
    "tags": []
   },
   "source": [
    "# crashes per years"
   ]
  },
  {
   "cell_type": "code",
   "execution_count": 42,
   "id": "c9dc23bf",
   "metadata": {
    "execution": {
     "iopub.execute_input": "2022-07-23T07:46:45.860358Z",
     "iopub.status.busy": "2022-07-23T07:46:45.859984Z",
     "iopub.status.idle": "2022-07-23T07:46:46.425413Z",
     "shell.execute_reply": "2022-07-23T07:46:46.424445Z"
    },
    "papermill": {
     "duration": 0.586608,
     "end_time": "2022-07-23T07:46:46.427093",
     "exception": false,
     "start_time": "2022-07-23T07:46:45.840485",
     "status": "completed"
    },
    "tags": []
   },
   "outputs": [
    {
     "data": {
      "image/png": "[encoded data removed]",
      "text/plain": [
       "<Figure size 1500x500 with 1 Axes>"
      ]
     },
     "metadata": {},
     "output_type": "display_data"
    }
   ],
   "source": [
    "\n",
    "plt.figure(figsize=(15, 5))\n",
    "per_year_plot = sns.histplot(data = df, x = 'Year', bins = 100, color = \"blue\")\n",
    "per_year_plot.set(title = \"Fig. 1: Crashes per year\")\n",
    "fig = per_year_plot.get_figure()\n",
    "fig.savefig('per_year_plot.png')\n"
   ]
  },
  {
   "cell_type": "markdown",
   "id": "f2ad805f",
   "metadata": {
    "papermill": {
     "duration": 0.018207,
     "end_time": "2022-07-23T07:46:46.463173",
     "exception": false,
     "start_time": "2022-07-23T07:46:46.444966",
     "status": "completed"
    },
    "tags": []
   },
   "source": [
    "airplane type and fatalities"
   ]
  },
  {
   "cell_type": "code",
   "execution_count": 43,
   "id": "545b2ad7",
   "metadata": {
    "execution": {
     "iopub.execute_input": "2022-07-23T07:46:46.500624Z",
     "iopub.status.busy": "2022-07-23T07:46:46.500264Z",
     "iopub.status.idle": "2022-07-23T07:46:46.516844Z",
     "shell.execute_reply": "2022-07-23T07:46:46.515870Z"
    },
    "papermill": {
     "duration": 0.037352,
     "end_time": "2022-07-23T07:46:46.518534",
     "exception": false,
     "start_time": "2022-07-23T07:46:46.481182",
     "status": "completed"
    },
    "tags": []
   },
   "outputs": [
    {
     "data": {
      "text/html": [
       "<div>\n",
       "<style scoped>\n",
       "    .dataframe tbody tr th:only-of-type {\n",
       "        vertical-align: middle;\n",
       "    }\n",
       "\n",
       "    .dataframe tbody tr th {\n",
       "        vertical-align: top;\n",
       "    }\n",
       "\n",
       "    .dataframe thead th {\n",
       "        text-align: right;\n",
       "    }\n",
       "</style>\n",
       "<table border=\"1\" class=\"dataframe\">\n",
       "  <thead>\n",
       "    <tr style=\"text-align: right;\">\n",
       "      <th></th>\n",
       "      <th>Fatalities</th>\n",
       "    </tr>\n",
       "    <tr>\n",
       "      <th>Type</th>\n",
       "      <th></th>\n",
       "    </tr>\n",
       "  </thead>\n",
       "  <tbody>\n",
       "    <tr>\n",
       "      <th>AAC-1 Toucan</th>\n",
       "      <td>23.0</td>\n",
       "    </tr>\n",
       "    <tr>\n",
       "      <th>AEGK</th>\n",
       "      <td>5.0</td>\n",
       "    </tr>\n",
       "    <tr>\n",
       "      <th>AT L98 Carvair</th>\n",
       "      <td>4.0</td>\n",
       "    </tr>\n",
       "    <tr>\n",
       "      <th>ATR 42-300</th>\n",
       "      <td>2.0</td>\n",
       "    </tr>\n",
       "    <tr>\n",
       "      <th>ATR-42-300</th>\n",
       "      <td>46.0</td>\n",
       "    </tr>\n",
       "    <tr>\n",
       "      <th>...</th>\n",
       "      <td>...</td>\n",
       "    </tr>\n",
       "    <tr>\n",
       "      <th>de Havilland Dove 1</th>\n",
       "      <td>22.0</td>\n",
       "    </tr>\n",
       "    <tr>\n",
       "      <th>de Havilland Dragon 1</th>\n",
       "      <td>3.0</td>\n",
       "    </tr>\n",
       "    <tr>\n",
       "      <th>de Havilland RU-6A Beaver /Bell UH-1H</th>\n",
       "      <td>18.0</td>\n",
       "    </tr>\n",
       "    <tr>\n",
       "      <th>de havilland Canada Twin Otter 200</th>\n",
       "      <td>11.0</td>\n",
       "    </tr>\n",
       "    <tr>\n",
       "      <th>deHavilland DH-86</th>\n",
       "      <td>9.0</td>\n",
       "    </tr>\n",
       "  </tbody>\n",
       "</table>\n",
       "<p>2446 rows × 1 columns</p>\n",
       "</div>"
      ],
      "text/plain": [
       "                                       Fatalities\n",
       "Type                                             \n",
       "AAC-1 Toucan                                 23.0\n",
       "AEGK                                          5.0\n",
       "AT L98 Carvair                                4.0\n",
       "ATR 42-300                                    2.0\n",
       "ATR-42-300                                   46.0\n",
       "...                                           ...\n",
       "de Havilland Dove 1                          22.0\n",
       "de Havilland Dragon 1                         3.0\n",
       "de Havilland RU-6A Beaver /Bell UH-1H        18.0\n",
       "de havilland Canada Twin Otter 200           11.0\n",
       "deHavilland DH-86                             9.0\n",
       "\n",
       "[2446 rows x 1 columns]"
      ]
     },
     "execution_count": 43,
     "metadata": {},
     "output_type": "execute_result"
    }
   ],
   "source": [
    "df_fatal = df.groupby('Type')[['Fatalities']].sum()\n",
    "df_fatal"
   ]
  },
  {
   "cell_type": "code",
   "execution_count": 44,
   "id": "ab664d28",
   "metadata": {
    "execution": {
     "iopub.execute_input": "2022-07-23T07:46:46.558072Z",
     "iopub.status.busy": "2022-07-23T07:46:46.557705Z",
     "iopub.status.idle": "2022-07-23T07:46:46.568336Z",
     "shell.execute_reply": "2022-07-23T07:46:46.567788Z"
    },
    "papermill": {
     "duration": 0.033177,
     "end_time": "2022-07-23T07:46:46.570436",
     "exception": false,
     "start_time": "2022-07-23T07:46:46.537259",
     "status": "completed"
    },
    "tags": []
   },
   "outputs": [
    {
     "data": {
      "text/html": [
       "<div>\n",
       "<style scoped>\n",
       "    .dataframe tbody tr th:only-of-type {\n",
       "        vertical-align: middle;\n",
       "    }\n",
       "\n",
       "    .dataframe tbody tr th {\n",
       "        vertical-align: top;\n",
       "    }\n",
       "\n",
       "    .dataframe thead th {\n",
       "        text-align: right;\n",
       "    }\n",
       "</style>\n",
       "<table border=\"1\" class=\"dataframe\">\n",
       "  <thead>\n",
       "    <tr style=\"text-align: right;\">\n",
       "      <th></th>\n",
       "      <th>Fatalities</th>\n",
       "    </tr>\n",
       "    <tr>\n",
       "      <th>Type</th>\n",
       "      <th></th>\n",
       "    </tr>\n",
       "  </thead>\n",
       "  <tbody>\n",
       "    <tr>\n",
       "      <th>AAC-1 Toucan</th>\n",
       "      <td>23.0</td>\n",
       "    </tr>\n",
       "    <tr>\n",
       "      <th>AEGK</th>\n",
       "      <td>5.0</td>\n",
       "    </tr>\n",
       "    <tr>\n",
       "      <th>AT L98 Carvair</th>\n",
       "      <td>4.0</td>\n",
       "    </tr>\n",
       "    <tr>\n",
       "      <th>ATR 42-300</th>\n",
       "      <td>2.0</td>\n",
       "    </tr>\n",
       "    <tr>\n",
       "      <th>ATR-42-300</th>\n",
       "      <td>46.0</td>\n",
       "    </tr>\n",
       "    <tr>\n",
       "      <th>ATR-72-202</th>\n",
       "      <td>16.0</td>\n",
       "    </tr>\n",
       "    <tr>\n",
       "      <th>ATR-72-212</th>\n",
       "      <td>68.0</td>\n",
       "    </tr>\n",
       "    <tr>\n",
       "      <th>Aermacchi MB-339PAN (3 aircraft)</th>\n",
       "      <td>3.0</td>\n",
       "    </tr>\n",
       "    <tr>\n",
       "      <th>Aero Commander  520</th>\n",
       "      <td>6.0</td>\n",
       "    </tr>\n",
       "    <tr>\n",
       "      <th>Aero Commander 500-B</th>\n",
       "      <td>2.0</td>\n",
       "    </tr>\n",
       "  </tbody>\n",
       "</table>\n",
       "</div>"
      ],
      "text/plain": [
       "                                  Fatalities\n",
       "Type                                        \n",
       "AAC-1 Toucan                            23.0\n",
       "AEGK                                     5.0\n",
       "AT L98 Carvair                           4.0\n",
       "ATR 42-300                               2.0\n",
       "ATR-42-300                              46.0\n",
       "ATR-72-202                              16.0\n",
       "ATR-72-212                              68.0\n",
       "Aermacchi MB-339PAN (3 aircraft)         3.0\n",
       "Aero Commander  520                      6.0\n",
       "Aero Commander 500-B                     2.0"
      ]
     },
     "execution_count": 44,
     "metadata": {},
     "output_type": "execute_result"
    }
   ],
   "source": [
    "df_fatal = df_fatal.rename(columns={'Type': 'Fatalities'})\n",
    "df_type_fatal = df_fatal.sort_values(by='Fatalities', ascending=False)\n",
    "df_type_fatal_top10 = df_fatal.head(10) \n",
    "df_type_fatal_top10\n",
    "\n"
   ]
  },
  {
   "cell_type": "markdown",
   "id": "f0907006",
   "metadata": {
    "papermill": {
     "duration": 0.028283,
     "end_time": "2022-07-23T07:46:46.627500",
     "exception": false,
     "start_time": "2022-07-23T07:46:46.599217",
     "status": "completed"
    },
    "tags": []
   },
   "source": [
    "# airplane models and crushes"
   ]
  },
  {
   "cell_type": "code",
   "execution_count": 45,
   "id": "9b732e89",
   "metadata": {
    "execution": {
     "iopub.execute_input": "2022-07-23T07:46:46.686766Z",
     "iopub.status.busy": "2022-07-23T07:46:46.685398Z",
     "iopub.status.idle": "2022-07-23T07:46:46.895768Z",
     "shell.execute_reply": "2022-07-23T07:46:46.894822Z"
    },
    "papermill": {
     "duration": 0.241786,
     "end_time": "2022-07-23T07:46:46.897812",
     "exception": false,
     "start_time": "2022-07-23T07:46:46.656026",
     "status": "completed"
    },
    "tags": []
   },
   "outputs": [
    {
     "data": {
      "image/png": "[encoded data removed]",
      "text/plain": [
       "<Figure size 1500x500 with 1 Axes>"
      ]
     },
     "metadata": {},
     "output_type": "display_data"
    }
   ],
   "source": [
    "plt.figure(figsize=(15, 5))\n",
    "sns.barplot(y=df_type_fatal_top10.index, x=\"Fatalities\", data=df_type_fatal_top10, palette=\"bright\")\n",
    "plt.xlabel('Total Fatalities')\n",
    "plt.ylabel('Airplane Model')\n",
    "plt.title('Total fatalities per airplane model')\n",
    "plt.show()\n"
   ]
  },
  {
   "cell_type": "code",
   "execution_count": 46,
   "id": "3fda19fb",
   "metadata": {
    "execution": {
     "iopub.execute_input": "2022-07-23T07:46:46.959260Z",
     "iopub.status.busy": "2022-07-23T07:46:46.958708Z",
     "iopub.status.idle": "2022-07-23T07:46:46.966936Z",
     "shell.execute_reply": "2022-07-23T07:46:46.965886Z"
    },
    "papermill": {
     "duration": 0.04227,
     "end_time": "2022-07-23T07:46:46.969223",
     "exception": false,
     "start_time": "2022-07-23T07:46:46.926953",
     "status": "completed"
    },
    "tags": []
   },
   "outputs": [],
   "source": [
    "airplanes = df[df['Fatalities'].notna()]\n",
    "airplanes = df[df['Ground'].notna()]"
   ]
  },
  {
   "cell_type": "code",
   "execution_count": 47,
   "id": "ae294d52",
   "metadata": {
    "execution": {
     "iopub.execute_input": "2022-07-23T07:46:47.030158Z",
     "iopub.status.busy": "2022-07-23T07:46:47.029532Z",
     "iopub.status.idle": "2022-07-23T07:46:47.051094Z",
     "shell.execute_reply": "2022-07-23T07:46:47.050175Z"
    },
    "papermill": {
     "duration": 0.054398,
     "end_time": "2022-07-23T07:46:47.053130",
     "exception": false,
     "start_time": "2022-07-23T07:46:46.998732",
     "status": "completed"
    },
    "scrolled": true,
    "tags": []
   },
   "outputs": [
    {
     "data": {
      "text/html": [
       "<div>\n",
       "<style scoped>\n",
       "    .dataframe tbody tr th:only-of-type {\n",
       "        vertical-align: middle;\n",
       "    }\n",
       "\n",
       "    .dataframe tbody tr th {\n",
       "        vertical-align: top;\n",
       "    }\n",
       "\n",
       "    .dataframe thead th {\n",
       "        text-align: right;\n",
       "    }\n",
       "</style>\n",
       "<table border=\"1\" class=\"dataframe\">\n",
       "  <thead>\n",
       "    <tr style=\"text-align: right;\">\n",
       "      <th></th>\n",
       "      <th>Date</th>\n",
       "      <th>Time</th>\n",
       "      <th>Location</th>\n",
       "      <th>Operator</th>\n",
       "      <th>Route</th>\n",
       "      <th>Type</th>\n",
       "      <th>Registration</th>\n",
       "      <th>cn/In</th>\n",
       "      <th>Aboard</th>\n",
       "      <th>Fatalities</th>\n",
       "      <th>Ground</th>\n",
       "      <th>Summary</th>\n",
       "      <th>Year</th>\n",
       "      <th>Total Death</th>\n",
       "    </tr>\n",
       "  </thead>\n",
       "  <tbody>\n",
       "    <tr>\n",
       "      <th>0</th>\n",
       "      <td>1908-09-17</td>\n",
       "      <td>2023-02-27 17:18:00</td>\n",
       "      <td>Fort Myer, Virginia</td>\n",
       "      <td>Military - U.S. Army</td>\n",
       "      <td>Demonstration</td>\n",
       "      <td>Wright Flyer III</td>\n",
       "      <td>NaN</td>\n",
       "      <td>1</td>\n",
       "      <td>2.0</td>\n",
       "      <td>1.0</td>\n",
       "      <td>0.0</td>\n",
       "      <td>During a demonstration flight, a U.S. Army fly...</td>\n",
       "      <td>1908</td>\n",
       "      <td>1.0</td>\n",
       "    </tr>\n",
       "    <tr>\n",
       "      <th>1</th>\n",
       "      <td>1912-07-12</td>\n",
       "      <td>2023-02-27 06:30:00</td>\n",
       "      <td>AtlantiCity, New Jersey</td>\n",
       "      <td>Military - U.S. Navy</td>\n",
       "      <td>Test flight</td>\n",
       "      <td>Dirigible</td>\n",
       "      <td>NaN</td>\n",
       "      <td>NaN</td>\n",
       "      <td>5.0</td>\n",
       "      <td>5.0</td>\n",
       "      <td>0.0</td>\n",
       "      <td>First U.S. dirigible Akron exploded just offsh...</td>\n",
       "      <td>1912</td>\n",
       "      <td>5.0</td>\n",
       "    </tr>\n",
       "    <tr>\n",
       "      <th>2</th>\n",
       "      <td>1913-08-06</td>\n",
       "      <td>2023-02-27 00:00:00</td>\n",
       "      <td>Victoria, British Columbia, Canada</td>\n",
       "      <td>Private</td>\n",
       "      <td>NaN</td>\n",
       "      <td>Curtiss seaplane</td>\n",
       "      <td>NaN</td>\n",
       "      <td>NaN</td>\n",
       "      <td>1.0</td>\n",
       "      <td>1.0</td>\n",
       "      <td>0.0</td>\n",
       "      <td>The first fatal airplane accident in Canada oc...</td>\n",
       "      <td>1913</td>\n",
       "      <td>1.0</td>\n",
       "    </tr>\n",
       "    <tr>\n",
       "      <th>3</th>\n",
       "      <td>1913-09-09</td>\n",
       "      <td>2023-02-27 18:30:00</td>\n",
       "      <td>Over the North Sea</td>\n",
       "      <td>Military - German Navy</td>\n",
       "      <td>NaN</td>\n",
       "      <td>Zeppelin L-1 (airship)</td>\n",
       "      <td>NaN</td>\n",
       "      <td>NaN</td>\n",
       "      <td>20.0</td>\n",
       "      <td>14.0</td>\n",
       "      <td>0.0</td>\n",
       "      <td>The airship flew into a thunderstorm and encou...</td>\n",
       "      <td>1913</td>\n",
       "      <td>14.0</td>\n",
       "    </tr>\n",
       "    <tr>\n",
       "      <th>4</th>\n",
       "      <td>1913-10-17</td>\n",
       "      <td>2023-02-27 10:30:00</td>\n",
       "      <td>Near Johannisthal, Germany</td>\n",
       "      <td>Military - German Navy</td>\n",
       "      <td>NaN</td>\n",
       "      <td>Zeppelin L-2 (airship)</td>\n",
       "      <td>NaN</td>\n",
       "      <td>NaN</td>\n",
       "      <td>30.0</td>\n",
       "      <td>30.0</td>\n",
       "      <td>0.0</td>\n",
       "      <td>Hydrogen gas which was being vented was sucked...</td>\n",
       "      <td>1913</td>\n",
       "      <td>30.0</td>\n",
       "    </tr>\n",
       "  </tbody>\n",
       "</table>\n",
       "</div>"
      ],
      "text/plain": [
       "        Date                Time                            Location  \\\n",
       "0 1908-09-17 2023-02-27 17:18:00                 Fort Myer, Virginia   \n",
       "1 1912-07-12 2023-02-27 06:30:00             AtlantiCity, New Jersey   \n",
       "2 1913-08-06 2023-02-27 00:00:00  Victoria, British Columbia, Canada   \n",
       "3 1913-09-09 2023-02-27 18:30:00                  Over the North Sea   \n",
       "4 1913-10-17 2023-02-27 10:30:00          Near Johannisthal, Germany   \n",
       "\n",
       "                 Operator          Route                    Type Registration  \\\n",
       "0    Military - U.S. Army  Demonstration        Wright Flyer III          NaN   \n",
       "1    Military - U.S. Navy    Test flight               Dirigible          NaN   \n",
       "2                 Private            NaN        Curtiss seaplane          NaN   \n",
       "3  Military - German Navy            NaN  Zeppelin L-1 (airship)          NaN   \n",
       "4  Military - German Navy            NaN  Zeppelin L-2 (airship)          NaN   \n",
       "\n",
       "  cn/In  Aboard  Fatalities  Ground  \\\n",
       "0     1     2.0         1.0     0.0   \n",
       "1   NaN     5.0         5.0     0.0   \n",
       "2   NaN     1.0         1.0     0.0   \n",
       "3   NaN    20.0        14.0     0.0   \n",
       "4   NaN    30.0        30.0     0.0   \n",
       "\n",
       "                                             Summary  Year  Total Death  \n",
       "0  During a demonstration flight, a U.S. Army fly...  1908          1.0  \n",
       "1  First U.S. dirigible Akron exploded just offsh...  1912          5.0  \n",
       "2  The first fatal airplane accident in Canada oc...  1913          1.0  \n",
       "3  The airship flew into a thunderstorm and encou...  1913         14.0  \n",
       "4  Hydrogen gas which was being vented was sucked...  1913         30.0  "
      ]
     },
     "execution_count": 47,
     "metadata": {},
     "output_type": "execute_result"
    }
   ],
   "source": [
    "df[\"Total Death\"] = df[\"Fatalities\"] + df[\"Ground\"]\n",
    "df.head()"
   ]
  },
  {
   "cell_type": "code",
   "execution_count": 48,
   "id": "b9e8453e",
   "metadata": {
    "execution": {
     "iopub.execute_input": "2022-07-23T07:46:47.114523Z",
     "iopub.status.busy": "2022-07-23T07:46:47.114156Z",
     "iopub.status.idle": "2022-07-23T07:46:47.133902Z",
     "shell.execute_reply": "2022-07-23T07:46:47.132920Z"
    },
    "papermill": {
     "duration": 0.053549,
     "end_time": "2022-07-23T07:46:47.136539",
     "exception": false,
     "start_time": "2022-07-23T07:46:47.082990",
     "status": "completed"
    },
    "tags": []
   },
   "outputs": [
    {
     "data": {
      "text/html": [
       "<div>\n",
       "<style scoped>\n",
       "    .dataframe tbody tr th:only-of-type {\n",
       "        vertical-align: middle;\n",
       "    }\n",
       "\n",
       "    .dataframe tbody tr th {\n",
       "        vertical-align: top;\n",
       "    }\n",
       "\n",
       "    .dataframe thead th {\n",
       "        text-align: right;\n",
       "    }\n",
       "</style>\n",
       "<table border=\"1\" class=\"dataframe\">\n",
       "  <thead>\n",
       "    <tr style=\"text-align: right;\">\n",
       "      <th></th>\n",
       "      <th>Total Death</th>\n",
       "    </tr>\n",
       "    <tr>\n",
       "      <th>Operator</th>\n",
       "      <th></th>\n",
       "    </tr>\n",
       "  </thead>\n",
       "  <tbody>\n",
       "    <tr>\n",
       "      <th>Aeroflot</th>\n",
       "      <td>7184.0</td>\n",
       "    </tr>\n",
       "    <tr>\n",
       "      <th>American Airlines</th>\n",
       "      <td>4310.0</td>\n",
       "    </tr>\n",
       "    <tr>\n",
       "      <th>Military - U.S. Air Force</th>\n",
       "      <td>3866.0</td>\n",
       "    </tr>\n",
       "    <tr>\n",
       "      <th>United Air Lines</th>\n",
       "      <td>3770.0</td>\n",
       "    </tr>\n",
       "    <tr>\n",
       "      <th>Air France</th>\n",
       "      <td>1739.0</td>\n",
       "    </tr>\n",
       "    <tr>\n",
       "      <th>Pan American World Airways</th>\n",
       "      <td>1322.0</td>\n",
       "    </tr>\n",
       "    <tr>\n",
       "      <th>Military - U.S. Army Air Forces</th>\n",
       "      <td>1150.0</td>\n",
       "    </tr>\n",
       "    <tr>\n",
       "      <th>AVIANCA</th>\n",
       "      <td>944.0</td>\n",
       "    </tr>\n",
       "    <tr>\n",
       "      <th>Turkish Airlines (THY)</th>\n",
       "      <td>891.0</td>\n",
       "    </tr>\n",
       "    <tr>\n",
       "      <th>Indian Airlines</th>\n",
       "      <td>870.0</td>\n",
       "    </tr>\n",
       "  </tbody>\n",
       "</table>\n",
       "</div>"
      ],
      "text/plain": [
       "                                 Total Death\n",
       "Operator                                    \n",
       "Aeroflot                              7184.0\n",
       "American Airlines                     4310.0\n",
       "Military - U.S. Air Force             3866.0\n",
       "United Air Lines                      3770.0\n",
       "Air France                            1739.0\n",
       "Pan American World Airways            1322.0\n",
       "Military - U.S. Army Air Forces       1150.0\n",
       "AVIANCA                                944.0\n",
       "Turkish Airlines (THY)                 891.0\n",
       "Indian Airlines                        870.0"
      ]
     },
     "execution_count": 48,
     "metadata": {},
     "output_type": "execute_result"
    }
   ],
   "source": [
    "df_death_airline = df.groupby('Operator')[['Total Death']].sum() \n",
    "df_death_airline = df_death_airline.rename(columns={\"Operator\": \"Total Death\"})\n",
    "df_death_airline = df_death_airline.sort_values(by='Total Death', ascending=False)\n",
    "df_death_airline_top10 = df_death_airline.head(10)\n",
    "\n",
    "df_death_airline_top10"
   ]
  },
  {
   "cell_type": "markdown",
   "id": "68a993e7",
   "metadata": {
    "papermill": {
     "duration": 0.029959,
     "end_time": "2022-07-23T07:46:47.196892",
     "exception": false,
     "start_time": "2022-07-23T07:46:47.166933",
     "status": "completed"
    },
    "tags": []
   },
   "source": [
    "# total death per airplane crushes"
   ]
  },
  {
   "cell_type": "code",
   "execution_count": 49,
   "id": "cdfb5f39",
   "metadata": {
    "execution": {
     "iopub.execute_input": "2022-07-23T07:46:47.260027Z",
     "iopub.status.busy": "2022-07-23T07:46:47.259103Z",
     "iopub.status.idle": "2022-07-23T07:46:47.528700Z",
     "shell.execute_reply": "2022-07-23T07:46:47.527783Z"
    },
    "papermill": {
     "duration": 0.303474,
     "end_time": "2022-07-23T07:46:47.530795",
     "exception": false,
     "start_time": "2022-07-23T07:46:47.227321",
     "status": "completed"
    },
    "tags": []
   },
   "outputs": [
    {
     "data": {
      "image/png": "[encoded data removed]",
      "text/plain": [
       "<Figure size 1500x500 with 1 Axes>"
      ]
     },
     "metadata": {},
     "output_type": "display_data"
    }
   ],
   "source": [
    "plt.figure(figsize=(15, 5))\n",
    "sns.barplot(y=df_death_airline_top10.index, x=\"Total Death\", data=df_death_airline_top10, palette=\"pastel\")\n",
    "plt.xlabel('Total Death')\n",
    "plt.ylabel('Airline Operator')\n",
    "plt.title('Fig. 3: Total death per airline operator')\n",
    "plt.show()"
   ]
  },
  {
   "cell_type": "code",
   "execution_count": null,
   "id": "89ef42ce",
   "metadata": {
    "papermill": {
     "duration": 0.030183,
     "end_time": "2022-07-23T07:46:47.591217",
     "exception": false,
     "start_time": "2022-07-23T07:46:47.561034",
     "status": "completed"
    },
    "tags": []
   },
   "outputs": [],
   "source": []
  }
 ],
 "metadata": {
  "kernelspec": {
   "display_name": "Python 3",
   "language": "python",
   "name": "python3"
  },
  "language_info": {
   "codemirror_mode": {
    "name": "ipython",
    "version": 3
   },
   "file_extension": ".py",
   "mimetype": "text/x-python",
   "name": "python",
   "nbconvert_exporter": "python",
   "pygments_lexer": "ipython3",
   "version": "3.10.4"
  },
  "papermill": {
   "default_parameters": {},
   "duration": 20.294241,
   "end_time": "2022-07-23T07:46:48.643179",
   "environment_variables": {},
   "exception": null,
   "input_path": "__notebook__.ipynb",
   "output_path": "__notebook__.ipynb",
   "parameters": {},
   "start_time": "2022-07-23T07:46:28.348938",
   "version": "2.3.4"
  },
  "vscode": {
   "interpreter": {
    "hash": "f98b0a14c880b3a0bb113bc1a7fa23dc412608f992c2684f2ab12f23b32aa5fc"
   }
  }
 },
 "nbformat": 4,
 "nbformat_minor": 5
}
